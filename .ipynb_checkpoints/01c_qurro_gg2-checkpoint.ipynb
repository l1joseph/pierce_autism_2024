{
 "cells": [
  {
   "cell_type": "code",
   "execution_count": 1,
   "metadata": {},
   "outputs": [],
   "source": [
    "import pandas as pd\n",
    "import numpy as np\n",
    "import qiime2 as q2\n",
    "import biom\n",
    "from qiime2 import Artifact, Metadata, Visualization\n",
    "from qiime2.plugins.emperor.actions import biplot\n",
    "from qiime2.plugins.qurro.actions import loading_plot\n",
    "from qiime2.plugins.gemelli.actions import (joint_rpca, filter_ordination, feature_correlation_table)\n",
    "from qiime2.plugins.longitudinal.actions import volatility\n",
    "from qiime2.plugins.diversity.visualizers import beta_group_significance\n",
    "from qiime2.plugins.feature_table.methods import filter_samples\n",
    "from biom import load_table\n",
    "# from gemelli.rpca import rpca\n",
    "from qiime2.plugins.gemelli.actions import rpca\n",
    "\n",
    "# plotting\n",
    "import matplotlib\n",
    "import seaborn as sns\n",
    "import matplotlib.pyplot as plt\n",
    "import os\n",
    "\n",
    "plt.style.use('ggplot')\n",
    "%matplotlib inline"
   ]
  },
  {
   "cell_type": "code",
   "execution_count": 2,
   "id": "5b7a6126",
   "metadata": {},
   "outputs": [],
   "source": [
    "# load in biplot, biomtable, taxonomy, and metadata\n",
    "table = Artifact.import_data(\"FeatureTable[Frequency]\", \"data/wolr2/gg2/zebra30/196551_zebra.biom/feature-table.biom\")\n",
    "metadata = Metadata.load('data/metadata/Metadata_and_Cumulative_TP.tsv')\n",
    "taxonomy = Artifact.import_data('FeatureData[Taxonomy]', 'ref/lineages.txt')\n"
   ]
  },
  {
   "cell_type": "code",
   "execution_count": 14,
   "id": "6de844ae",
   "metadata": {},
   "outputs": [],
   "source": [
    "# import the data table\n",
    "# table = load_table(\"data/195330_zebra.biom/feature-table.biom\")\n",
    "\n",
    "# lucas's biom table\n",
    "# table = load_table(\"out/lucas/195330_zebra.biom\")\n",
    "\n",
    "\n",
    "# perform RPCA\n",
    "# ordination, distance = rpca(table, min_sample_count=500, max_iterations=15)\n",
    "ordination, distance = rpca(table, min_sample_count=500)\n"
   ]
  },
  {
   "cell_type": "code",
   "execution_count": 15,
   "id": "20d52bc7",
   "metadata": {},
   "outputs": [
    {
     "name": "stderr",
     "output_type": "stream",
     "text": [
      "/home/l1joseph/miniforge3/envs/qiime2-2022.8/lib/python3.8/site-packages/emperor/core.py:327: EmperorWarning: 3 out of 86 samples have no metadata and are being included with a placeholder value.\n",
      "  warnings.warn(\"%d out of %d %ss have no metadata and are being\"\n"
     ]
    },
    {
     "data": {
      "text/plain": [
       "'data/wolr2/zebra30/rpca/emp_biplot_50.qzv'"
      ]
     },
     "execution_count": 15,
     "metadata": {},
     "output_type": "execute_result"
    }
   ],
   "source": [
    "# Create the biplot\n",
    "# biplot_results = biplot(\n",
    "#     ordination=ordination,\n",
    "#     table=table,\n",
    "#     number_of_features=50,  # Specify the number of features to display (default: 5)\n",
    "#     feature_metadata=taxonomy,  # Use the imported taxonomy as the feature metadata\n",
    "#     sample_metadata=metadata,  # Use the imported metadata as the sample metadata\n",
    "# )\n",
    "\n",
    "biplot_viz = biplot(ordination, metadata, ignore_missing_samples=True, number_of_features=50)\n",
    "biplot_viz.visualization.save('data/wolr2/gg2/zebra30/rpca/emp_biplot_50.qzv')"
   ]
  },
  {
   "cell_type": "code",
   "execution_count": 5,
   "id": "adb50445",
   "metadata": {},
   "outputs": [
    {
     "data": {
      "text/plain": [
       "qiime2.sdk.results.Results"
      ]
     },
     "execution_count": 5,
     "metadata": {},
     "output_type": "execute_result"
    }
   ],
   "source": [
    "type(biplot_viz)"
   ]
  },
  {
   "cell_type": "code",
   "execution_count": 6,
   "id": "df72dd35",
   "metadata": {},
   "outputs": [],
   "source": [
    "# # run joint RPCA\n",
    "# jrpca_results = joint_rpca([table], sample_metadata=metadata, min_feature_frequency=5, max_iterations=15)\n",
    "# jrpca_results.biplot.save('data/wolr2/zebra30/rpca/joint_biplot.qza')\n",
    "# jrpca_results.distance_matrix.save('data/wolr2/zebra30/rpca/joint_distance_matrix.qza')\n",
    "# jrpca_results.cross_validation_error.save('data/wolr2/zebra30/rpca/cross_validation_error.qza')"
   ]
  },
  {
   "cell_type": "code",
   "execution_count": 7,
   "id": "70f91d60",
   "metadata": {},
   "outputs": [],
   "source": [
    "# emp_plot = biplot(jrpca_results.biplot, metadata, number_of_features=50, ignore_missing_samples=True)\n",
    "# emp_plot.visualization.save(f'data/wolr2/zebra30/rpca/emperor-biplot_50.qzv')"
   ]
  },
  {
   "cell_type": "code",
   "execution_count": 16,
   "id": "2aeac2cd",
   "metadata": {},
   "outputs": [
    {
     "name": "stdout",
     "output_type": "stream",
     "text": [
      "13 sample(s) in the BIOM table were not present in the sample metadata file.\n",
      "These sample(s) have been removed from the visualization.\n"
     ]
    },
    {
     "data": {
      "text/plain": [
       "'data/wolr2/zebra30/qurro/qurro-metag_2.qzv'"
      ]
     },
     "execution_count": 16,
     "metadata": {},
     "output_type": "execute_result"
    }
   ],
   "source": [
    "# Ensure the output directory exists\n",
    "if not os.path.exists(f'data/wolr2/gg2/zebra30/qurro'):\n",
    "    os.makedirs(f'data/wolr2/gg2/zebra30/qurro')\n",
    "\n",
    "# subset for Qurro metaG\n",
    "# ordination_metag = filter_ordination(biplot, table).subset_biplot\n",
    "# ordination_metag = filter_ordination(ordination, table).subset_biplot # check this, but removal should have no impact\n",
    "# ordination_metag.save(f'data/wolr2/zebra30/qurro/ordination-metag.qza')\n",
    "\n",
    "# run Qurro metaG\n",
    "# qurro_plot_metag = loading_plot(ordination_metag, table, metadata, feature_metadata=taxonomy.view(Metadata))\n",
    "qurro_plot_metag = loading_plot(ordination, table, metadata, feature_metadata=taxonomy.view(Metadata))\n",
    "qurro_plot_metag.visualization.save(f'data/wolr2/gg2/zebra30/qurro/qurro-metag.qzv')"
   ]
  },
  {
   "cell_type": "markdown",
   "id": "d6d3b796",
   "metadata": {},
   "source": [
    "### pulling out log ratios(up & down regulated)"
   ]
  },
  {
   "cell_type": "code",
   "execution_count": null,
   "id": "8ef2c570",
   "metadata": {},
   "outputs": [],
   "source": [
    "def extract_custom_log_ratios(qurro_viz_path, up_species, down_species):\n",
    "    # Load the Qurro visualization from the .qzv file\n",
    "    qurro_viz = qiime2.Visualization.load(qurro_viz_path)\n",
    "\n",
    "    # Extract log ratios data and feature metadata from the visualization\n",
    "    log_ratios_data = qurro_viz.get_data('log_ratios.tsv')\n",
    "    feature_metadata = qurro_viz.get_data('feature_metadata.tsv')\n",
    "\n",
    "    # Convert log ratios data and feature metadata to DataFrames\n",
    "    log_ratios_df = pd.read_csv(log_ratios_data, sep='\\t', index_col='Feature ID')\n",
    "    feature_metadata_df = pd.read_csv(feature_metadata, sep='\\t', index_col='Feature ID')\n",
    "\n",
    "    # Extract feature IDs for up-regulated and down-regulated species\n",
    "    up_features = feature_metadata_df[feature_metadata_df['Species'].isin(up_species)].index\n",
    "    down_features = feature_metadata_df[feature_metadata_df['Species'].isin(down_species)].index\n",
    "\n",
    "    # Filter log ratios data for up-regulated and down-regulated features\n",
    "    up_log_ratios = log_ratios_df.loc[up_features]\n",
    "    down_log_ratios = log_ratios_df.loc[down_features]\n",
    "\n",
    "    # Calculate custom log ratios\n",
    "    custom_log_ratios = {}\n",
    "    for sample in log_ratios_df.columns:\n",
    "        up_total = up_log_ratios[sample].sum()\n",
    "        down_total = down_log_ratios[sample].sum()\n",
    "        custom_log_ratio = up_total - down_total\n",
    "        custom_log_ratios[sample] = custom_log_ratio\n",
    "\n",
    "    return pd.Series(custom_log_ratios)"
   ]
  },
  {
   "cell_type": "code",
   "execution_count": null,
   "id": "d994a1d2",
   "metadata": {},
   "outputs": [],
   "source": [
    "\n",
    "# Usage example\n",
    "qurro_viz_path = 'data/wolr2/gg2/zebra30/qurro/qurro-metag.qzv'\n",
    "up_species = ['Escherichia coli', 'Bacteroides fragilis']\n",
    "down_species = ['Faecalibacterium prausnitzii', 'Bifidobacterium longum']\n",
    "\n",
    "custom_log_ratios = extract_custom_log_ratios(qurro_viz_path, up_species, down_species)"
   ]
  }
 ],
 "metadata": {
  "kernelspec": {
   "display_name": "qiime2-2022.8",
   "language": "python",
   "name": "python3"
  },
  "language_info": {
   "codemirror_mode": {
    "name": "ipython",
    "version": 3
   },
   "file_extension": ".py",
   "mimetype": "text/x-python",
   "name": "python",
   "nbconvert_exporter": "python",
   "pygments_lexer": "ipython3",
   "version": "3.8.13"
  }
 },
 "nbformat": 4,
 "nbformat_minor": 5
}
