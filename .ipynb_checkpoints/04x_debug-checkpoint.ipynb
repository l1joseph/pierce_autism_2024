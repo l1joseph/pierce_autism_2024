{
 "cells": [
  {
   "cell_type": "code",
   "execution_count": 9,
   "id": "d6f296da-08ea-4a39-ba9e-99451f606264",
   "metadata": {},
   "outputs": [],
   "source": [
    "# qiime2 imports\n",
    "import qiime2 as q2\n",
    "from qiime2 import Artifact, Metadata, Visualization\n",
    "from qiime2.plugins.feature_table.methods import filter_features, filter_samples\n",
    "\n",
    "# birdman imports\n",
    "import biom\n",
    "import pandas as pd\n",
    "import numpy as np\n",
    "\n",
    "# visualization imports\n",
    "import seaborn as sns\n",
    "import matplotlib.pyplot as plt\n",
    "%matplotlib inline\n",
    "\n"
   ]
  },
  {
   "cell_type": "code",
   "execution_count": 10,
   "id": "4cb1515f-4dd7-4a84-ad10-89d51cd2710b",
   "metadata": {},
   "outputs": [],
   "source": [
    "# none = biom.load_table('/home/lpatel/projects/2024-03-04_pierce-autism/out/195330_none.zebra.tp-td.biom')\n",
    "none = biom.load_table('/home/lpatel/projects/2024-03-04_pierce-autism/out/195330_none.zebra.biom')\n",
    "ec = biom.load_table('/home/lpatel/projects/2024-03-04_pierce-autism/out/195333_ec.zebra.tp-td.biom')\n",
    "ko = biom.load_table('/home/lpatel/projects/2024-03-04_pierce-autism/out/195334_ko.zebra.tp-td.biom')\n",
    "pathway = biom.load_table('/home/lpatel/projects/2024-03-04_pierce-autism/out/195331_pathway.zebra.tp-td.biom')\n",
    "\n",
    "\n",
    "md = Metadata.load('/home/lpatel/projects/2024-03-04_pierce-autism/qiita/15350_20240110-175840_noblanks.txt')\n",
    "info = pd.read_csv('/home/lpatel/projects/2024-03-04_pierce-autism/ref/tryptophan_kegg.tsv', sep='\\t', index_col=0)\n"
   ]
  },
  {
   "cell_type": "code",
   "execution_count": 11,
   "id": "bddeb0b1-73e6-40d1-8087-6ccdce97426d",
   "metadata": {},
   "outputs": [
    {
     "data": {
      "text/plain": [
       "'/home/l1joseph/pierce_autism_2024/out/diag/pathway.qza'"
      ]
     },
     "execution_count": 11,
     "metadata": {},
     "output_type": "execute_result"
    }
   ],
   "source": [
    "none_qza = Artifact.import_data('FeatureTable[Frequency]', none)\n",
    "none_qza.save(f'/home/l1joseph/pierce_autism_2024/out/diag/none.qza')\n",
    "\n",
    "ec_qza = Artifact.import_data('FeatureTable[Frequency]', ec)\n",
    "ec_qza.save(f'/home/l1joseph/pierce_autism_2024/out/diag/ec.qza')\n",
    "\n",
    "ko_qza = Artifact.import_data('FeatureTable[Frequency]', ko)\n",
    "ko_qza.save(f'/home/l1joseph/pierce_autism_2024/out/diag/ko.qza')\n",
    "\n",
    "pathway_qza = Artifact.import_data('FeatureTable[Frequency]', pathway)\n",
    "pathway_qza.save(f'/home/l1joseph/pierce_autism_2024/out/diag/pathway.qza')"
   ]
  },
  {
   "cell_type": "code",
   "execution_count": 12,
   "id": "763820f6-6c4b-4423-8136-8bbd2ffc9129",
   "metadata": {},
   "outputs": [
    {
     "name": "stdout",
     "output_type": "stream",
     "text": [
      "ASD       34\n",
      "ASD-TP    29\n",
      "TD        20\n",
      "Name: dx_eyetrack, dtype: int64\n"
     ]
    }
   ],
   "source": [
    "# Creating cumulative true positive score\n",
    "metadata = md.to_dataframe()\n",
    "\n",
    "# Create dx_eyetrack column for all cases\n",
    "metadata['dx_eyetrack'] = metadata['dx']\n",
    "\n",
    "# Filter for ASD cases\n",
    "asd_metadata = metadata[metadata['dx'] == 'ASD']\n",
    "\n",
    "# Identify ASD-TP cases\n",
    "tp_mask = asd_metadata[['dx_compsocial', 'dx_geopref', 'dx_mtrtechno', 'dx_mtrtraffic', 'dx_outdoorplay']].apply(lambda x: 'TP' in x.values, axis=1)\n",
    "\n",
    "# Update dx_eyetrack for ASD-TP cases\n",
    "metadata.loc[tp_mask.index[tp_mask], 'dx_eyetrack'] = 'ASD-TP'\n",
    "\n",
    "# Display the value counts of the updated dx_eyetrack column\n",
    "print(metadata['dx_eyetrack'].value_counts())\n",
    "# print(metadata['dx'].value_counts())\n",
    "\n",
    "\n",
    "md_q2 = Metadata(metadata)\n",
    "\n",
    "#meta_q2 = Metadata(metadata)\n",
    "#meta_q2.get_column('dx_eyetrack')\n",
    "\n",
    "\n",
    "# metadata = md.to_dataframe()\n",
    "\n",
    "# def categorize_eyetrack(row):\n",
    "#     if row['dx'] == 'TD':\n",
    "#         return 'TD'\n",
    "#     elif row['dx'] == 'ASD':\n",
    "#         eyetrack_columns = ['dx_compsocial', 'dx_geopref', 'dx_mtrtechno', 'dx_mtrtraffic', 'dx_outdoorplay']\n",
    "#         if any(row[col] == 'TP' for col in eyetrack_columns):\n",
    "#             return 'ASD-TP'\n",
    "#         else:\n",
    "#             return 'ASD'\n",
    "#     else:\n",
    "#         return 'Unknown'\n",
    "\n",
    "# metadata['dx_eyetrack'] = metadata.apply(categorize_eyetrack, axis=1)\n",
    "\n",
    "# print(metadata['dx_eyetrack'].value_counts())\n",
    "\n",
    "# meta_q2 = Metadata(metadata)\n",
    "\n",
    "# # dx_eyetrack_column = meta_q2.get_column('dx_eyetrack')\n",
    "\n",
    "# # print(dx_eyetrack_column)"
   ]
  },
  {
   "cell_type": "code",
   "execution_count": null,
   "id": "50baa13b-5459-45ba-a4dc-d57b93fa1815",
   "metadata": {},
   "outputs": [],
   "source": [
    "# for leo, example of running q2-sample-classifier\n",
    "# docs: https://docs.qiime2.org/2024.5/plugins/available/sample-classifier/classify-samples/\n",
    "# tutorial: https://docs.qiime2.org/2024.5/tutorials/sample-classifier/\n",
    "\n",
    "from qiime2.plugins.sample_classifier.pipelines import classify_samples\n",
    "\n",
    "# load table and metadata\n",
    "# dx_eyetrack_column = meta_q2.get_column('dx_banana')\n",
    "diag = md_q2.get_column('dx_eyetrack')\n",
    "\n",
    "results_none = classify_samples(\n",
    "    table=none_qza,\n",
    "    metadata=diag,\n",
    "    test_size=0.1,\n",
    "    step=0.1,\n",
    "    cv=5,\n",
    "    random_state=42,\n",
    "    n_jobs=8,\n",
    "    n_estimators=1000,\n",
    "    estimator='GradientBoostingClassifier',\n",
    "    optimize_feature_selection=True,\n",
    "    parameter_tuning=True,\n",
    "    palette='viridis',\n",
    "    missing_samples='error'\n",
    ")"
   ]
  },
  {
   "cell_type": "code",
   "execution_count": null,
   "id": "96496ca7-4445-4d51-9bdd-4ae91d5b77b6",
   "metadata": {},
   "outputs": [],
   "source": []
  }
 ],
 "metadata": {
  "kernelspec": {
   "display_name": "qiime2-2022.8",
   "language": "python",
   "name": "qiime2-2022.8"
  },
  "language_info": {
   "codemirror_mode": {
    "name": "ipython",
    "version": 3
   },
   "file_extension": ".py",
   "mimetype": "text/x-python",
   "name": "python",
   "nbconvert_exporter": "python",
   "pygments_lexer": "ipython3",
   "version": "3.8.13"
  }
 },
 "nbformat": 4,
 "nbformat_minor": 5
}
