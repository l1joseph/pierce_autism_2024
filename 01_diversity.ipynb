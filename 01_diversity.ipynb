{
 "cells": [
  {
   "cell_type": "markdown",
   "id": "76652540",
   "metadata": {},
   "source": [
    "# Pierce - Diversity Metrics\n",
    "Author: Leo Joseph (l1joseph@ucsd.edu)"
   ]
  },
  {
   "cell_type": "code",
   "execution_count": 1,
   "id": "b3ec4b3f",
   "metadata": {},
   "outputs": [],
   "source": [
    "import pandas as pd\n",
    "from qiime2 import Artifact, Metadata, Visualization\n",
    "import qupid\n",
    "import os\n",
    "\n",
    "import seaborn as sns\n",
    "import matplotlib.pyplot as plt\n",
    "\n",
    "from scipy.stats import kruskal\n",
    "import qiime2.plugins.diversity.actions as diversity_actions"
   ]
  },
  {
   "cell_type": "code",
   "execution_count": 2,
   "id": "3389ac72",
   "metadata": {},
   "outputs": [],
   "source": [
    "# row sum for feature table, and hist plot and then scrub to remove contamination(coverage filter before and after as well as qupid before and after\n",
    "# also run t-test and mann-whitney from sci py package and report p-value and test statistic and creat box plots for each alpha metric"
   ]
  },
  {
   "cell_type": "code",
   "execution_count": null,
   "id": "b15106cd-c336-4a1a-96ee-ba97a1c4ad9d",
   "metadata": {},
   "outputs": [],
   "source": [
    "# need to calculate all these metrics: Shannon, observed, chao1, PDwhole"
   ]
  }
 ],
 "metadata": {
  "kernelspec": {
   "display_name": "qiime2-amplicon-2024.2",
   "language": "python",
   "name": "qiime2-amplicon-2024.2"
  },
  "language_info": {
   "codemirror_mode": {
    "name": "ipython",
    "version": 3
   },
   "file_extension": ".py",
   "mimetype": "text/x-python",
   "name": "python",
   "nbconvert_exporter": "python",
   "pygments_lexer": "ipython3",
   "version": "3.8.15"
  }
 },
 "nbformat": 4,
 "nbformat_minor": 5
}
