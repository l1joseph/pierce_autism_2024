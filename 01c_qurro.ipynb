{
 "cells": [
  {
   "cell_type": "code",
   "execution_count": 1,
   "metadata": {},
   "outputs": [],
   "source": [
    "import pandas as pd\n",
    "import numpy as np\n",
    "import qiime2 as q2\n",
    "import biom\n",
    "from qiime2 import Artifact, Metadata, Visualization\n",
    "from qiime2.plugins.emperor.actions import biplot\n",
    "from qiime2.plugins.qurro.actions import loading_plot\n",
    "from qiime2.plugins.gemelli.actions import (joint_rpca, filter_ordination, feature_correlation_table)\n",
    "from qiime2.plugins.longitudinal.actions import volatility\n",
    "from qiime2.plugins.diversity.visualizers import beta_group_significance\n",
    "from qiime2.plugins.feature_table.methods import filter_samples\n",
    "from biom import load_table\n",
    "# from gemelli.rpca import rpca\n",
    "from qiime2.plugins.gemelli.actions import rpca\n",
    "\n",
    "# plotting\n",
    "import matplotlib\n",
    "import seaborn as sns\n",
    "import matplotlib.pyplot as plt\n",
    "import os\n",
    "\n",
    "plt.style.use('ggplot')\n",
    "%matplotlib inline"
   ]
  },
  {
   "cell_type": "code",
   "execution_count": 2,
   "id": "5b7a6126",
   "metadata": {},
   "outputs": [],
   "source": [
    "# load in biplot, biomtable, taxonomy, and metadata\n",
    "table = Artifact.import_data(\"FeatureTable[Frequency]\", \"data/195330_zebra.biom/feature-table.biom\")\n",
    "metadata = Metadata.load('data/metadata/Metadata_and_dx_Eyetrack.tsv')\n",
    "taxonomy = Artifact.import_data('FeatureData[Taxonomy]', 'ref/lineages.txt')\n"
   ]
  },
  {
   "cell_type": "code",
   "execution_count": 14,
   "id": "6de844ae",
   "metadata": {},
   "outputs": [],
   "source": [
    "# perform RPCA\n",
    "# ordination, distance = rpca(table, min_sample_count=500, max_iterations=15)\n",
    "ordination, distance = rpca(table, min_sample_count=500)\n"
   ]
  },
  {
   "cell_type": "code",
   "execution_count": 15,
   "id": "20d52bc7",
   "metadata": {},
   "outputs": [
    {
     "name": "stderr",
     "output_type": "stream",
     "text": [
      "/home/l1joseph/miniforge3/envs/qiime2-2022.8/lib/python3.8/site-packages/emperor/core.py:327: EmperorWarning: 3 out of 86 samples have no metadata and are being included with a placeholder value.\n",
      "  warnings.warn(\"%d out of %d %ss have no metadata and are being\"\n"
     ]
    },
    {
     "data": {
      "text/plain": [
       "'data/wolr2/zebra30/rpca/emp_biplot_50.qzv'"
      ]
     },
     "execution_count": 15,
     "metadata": {},
     "output_type": "execute_result"
    }
   ],
   "source": [
    "# Create the biplot\n",
    "\n",
    "biplot_viz = biplot(ordination, metadata, ignore_missing_samples=True, number_of_features=50)\n",
    "biplot_viz.visualization.save('data/wolr2/zebra30/rpca/emp_biplot_50.qzv')"
   ]
  },
  {
   "cell_type": "code",
   "execution_count": 5,
   "id": "adb50445",
   "metadata": {},
   "outputs": [
    {
     "data": {
      "text/plain": [
       "qiime2.sdk.results.Results"
      ]
     },
     "execution_count": 5,
     "metadata": {},
     "output_type": "execute_result"
    }
   ],
   "source": [
    "type(biplot_viz)"
   ]
  },
  {
   "cell_type": "code",
   "execution_count": 16,
   "id": "2aeac2cd",
   "metadata": {},
   "outputs": [
    {
     "name": "stdout",
     "output_type": "stream",
     "text": [
      "13 sample(s) in the BIOM table were not present in the sample metadata file.\n",
      "These sample(s) have been removed from the visualization.\n"
     ]
    },
    {
     "data": {
      "text/plain": [
       "'data/wolr2/zebra30/qurro/qurro-metag_2.qzv'"
      ]
     },
     "execution_count": 16,
     "metadata": {},
     "output_type": "execute_result"
    }
   ],
   "source": [
    "# Ensure the output directory exists\n",
    "if not os.path.exists(f'data/wolr2/zebra30/qurro'):\n",
    "    os.makedirs(f'data/wolr2/zebra30/qurro')\n",
    "\n",
    "\n",
    "# run Qurro metaG\n",
    "qurro_plot_metag = loading_plot(ordination, table, metadata, feature_metadata=taxonomy.view(Metadata))\n",
    "qurro_plot_metag.visualization.save(f'data/wolr2/zebra30/qurro/qurro-metag_2.qzv')"
   ]
  },
  {
   "cell_type": "code",
   "execution_count": null,
   "id": "8ef2c570",
   "metadata": {},
   "outputs": [],
   "source": []
  }
 ],
 "metadata": {
  "kernelspec": {
   "display_name": "qiime2-2022.8",
   "language": "python",
   "name": "python3"
  },
  "language_info": {
   "codemirror_mode": {
    "name": "ipython",
    "version": 3
   },
   "file_extension": ".py",
   "mimetype": "text/x-python",
   "name": "python",
   "nbconvert_exporter": "python",
   "pygments_lexer": "ipython3",
   "version": "3.8.13"
  }
 },
 "nbformat": 4,
 "nbformat_minor": 5
}
