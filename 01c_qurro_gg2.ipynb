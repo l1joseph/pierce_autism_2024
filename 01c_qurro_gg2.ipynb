{
 "cells": [
  {
   "cell_type": "code",
   "execution_count": 1,
   "id": "a569ae7f",
   "metadata": {},
   "outputs": [],
   "source": [
    "import pandas as pd\n",
    "import numpy as np\n",
    "import qiime2 as q2\n",
    "import biom\n",
    "from qiime2 import Artifact, Metadata, Visualization\n",
    "from qiime2.plugins.emperor.actions import biplot\n",
    "from qiime2.plugins.qurro.actions import loading_plot\n",
    "from qiime2.plugins.gemelli.actions import (joint_rpca, filter_ordination, feature_correlation_table)\n",
    "from qiime2.plugins.longitudinal.actions import volatility\n",
    "from qiime2.plugins.diversity.visualizers import beta_group_significance\n",
    "from qiime2.plugins.feature_table.methods import filter_samples\n",
    "from biom import load_table\n",
    "# from gemelli.rpca import rpca\n",
    "from qiime2.plugins.gemelli.actions import rpca\n",
    "\n",
    "# plotting\n",
    "import matplotlib\n",
    "import seaborn as sns\n",
    "import matplotlib.pyplot as plt\n",
    "import os\n",
    "\n",
    "plt.style.use('ggplot')\n",
    "%matplotlib inline"
   ]
  },
  {
   "cell_type": "code",
   "execution_count": 2,
   "id": "5b7a6126",
   "metadata": {},
   "outputs": [],
   "source": [
    "# load in biplot, biomtable, taxonomy, and metadata\n",
    "table = Artifact.import_data(\"FeatureTable[Frequency]\", \"pierce_autism_2024/data/wolr2/gg2/zebra30/196551_zebra_2022_8.qza\")\n",
    "metadata = Metadata.load('data/metadata/Metadata_and_Cumulative_TP.tsv')\n",
    "taxonomy = Artifact.import_data('FeatureData[Taxonomy]', '/home/l1joseph/pierce_autism_2024/data/wolr2/gg2/196551_zebra.taxonomy.qza')\n"
   ]
  },
  {
   "cell_type": "code",
   "execution_count": 3,
   "id": "6de844ae",
   "metadata": {},
   "outputs": [],
   "source": [
    "# perform RPCA\n",
    "# ordination, distance = rpca(table, min_sample_count=500, max_iterations=15)\n",
    "ordination, distance = rpca(table, min_sample_count=500)\n"
   ]
  },
  {
   "cell_type": "code",
   "execution_count": 7,
   "id": "20d52bc7",
   "metadata": {},
   "outputs": [
    {
     "data": {
      "text/plain": [
       "'data/wolr2/gg2/zebra30/rpca/emp_biplot_50.qza.qzv'"
      ]
     },
     "execution_count": 7,
     "metadata": {},
     "output_type": "execute_result"
    }
   ],
   "source": [
    "if not os.path.exists(f'data/wolr2/gg2/zebra30/rpca'):\n",
    "    os.makedirs(f'data/wolr2/gg2/zebra30/rpca')\n",
    "\n",
    "biplot_viz = biplot(ordination, metadata, ignore_missing_samples=True, number_of_features=50)\n",
    "biplot_viz.visualization.save('data/wolr2/gg2/zebra30/rpca/emp_biplot_50.qzv')"
   ]
  },
  {
   "cell_type": "code",
   "execution_count": 14,
   "id": "5a538ab2",
   "metadata": {},
   "outputs": [
    {
     "data": {
      "text/plain": [
       "'data/wolr2/gg2/zebra30/rpca/ordination.qza'"
      ]
     },
     "execution_count": 14,
     "metadata": {},
     "output_type": "execute_result"
    }
   ],
   "source": [
    "\n",
    "ordination.save('data/wolr2/gg2/zebra30/rpca/ordination.qza')"
   ]
  },
  {
   "cell_type": "code",
   "execution_count": 12,
   "id": "adb50445",
   "metadata": {},
   "outputs": [
    {
     "data": {
      "text/plain": [
       "qiime2.sdk.results.Results"
      ]
     },
     "execution_count": 12,
     "metadata": {},
     "output_type": "execute_result"
    }
   ],
   "source": [
    "type(biplot_viz)\n"
   ]
  },
  {
   "cell_type": "code",
   "execution_count": 13,
   "id": "89efcf56",
   "metadata": {},
   "outputs": [
    {
     "data": {
      "text/plain": [
       "qiime2.sdk.result.Artifact"
      ]
     },
     "execution_count": 13,
     "metadata": {},
     "output_type": "execute_result"
    }
   ],
   "source": [
    "type(ordination)"
   ]
  },
  {
   "cell_type": "code",
   "execution_count": 12,
   "id": "2aeac2cd",
   "metadata": {},
   "outputs": [
    {
     "data": {
      "text/plain": [
       "'data/wolr2/gg2/zebra30/qurro/qurro-metag.qzv'"
      ]
     },
     "execution_count": 12,
     "metadata": {},
     "output_type": "execute_result"
    }
   ],
   "source": [
    "# Ensure the output directory exists\n",
    "if not os.path.exists(f'data/wolr2/gg2/zebra30/qurro'):\n",
    "    os.makedirs(f'data/wolr2/gg2/zebra30/qurro')\n",
    "\n",
    "\n",
    "# run Qurro metaG\n",
    "qurro_plot_metag = loading_plot(ordination, table, metadata, feature_metadata=taxonomy.view(Metadata))\n",
    "qurro_plot_metag.visualization.save(f'data/wolr2/gg2/zebra30/qurro/qurro-metag.qzv')"
   ]
  },
  {
   "cell_type": "markdown",
   "id": "a1dd57e2",
   "metadata": {},
   "source": [
    "## Empress Plot"
   ]
  },
  {
   "cell_type": "code",
   "execution_count": 10,
   "id": "9d573d87",
   "metadata": {},
   "outputs": [
    {
     "name": "stdout",
     "output_type": "stream",
     "text": [
      "Usage: \u001b[94mqiime empress community-plot\u001b[0m [OPTIONS]\n",
      "\n",
      "  Generates an interactive phylogenetic tree visualization supporting\n",
      "  interaction with sample and feature metadata and, optionally, Emperor\n",
      "  integration.\n",
      "\n",
      "\u001b[1mInputs\u001b[0m:\n",
      "  \u001b[94m\u001b[4m--i-tree\u001b[0m ARTIFACT    The phylogenetic tree to visualize.\n",
      "    \u001b[32mPhylogeny[Rooted]\u001b[0m                                               \u001b[35m[required]\u001b[0m\n",
      "  \u001b[94m\u001b[4m--i-feature-table\u001b[0m ARTIFACT \u001b[32mFeatureTable[Frequency¹ | RelativeFrequency² |\u001b[0m\n",
      "    \u001b[32mPresenceAbsence³]\u001b[0m  A table that documents which features are in which\n",
      "                       samples. This information allows us to decorate the\n",
      "                       phylogeny by sample metadata. It's expected that all\n",
      "                       features in the table are also present as tips in the\n",
      "                       tree, and that all samples in the table are also\n",
      "                       present in the sample metadata file.         \u001b[35m[required]\u001b[0m\n",
      "  \u001b[94m--i-pcoa\u001b[0m ARTIFACT    Principal coordinates matrix to display simultaneously\n",
      "    \u001b[32mPCoAResults\u001b[0m        with the phylogenetic tree using Emperor.    \u001b[35m[optional]\u001b[0m\n",
      "\u001b[1mParameters\u001b[0m:\n",
      "  \u001b[94m\u001b[4m--m-sample-metadata-file\u001b[0m METADATA...\n",
      "    (multiple          Sample metadata. Can be used to color tips in the tree\n",
      "     arguments will    by the samples they are unique to, and to display\n",
      "     be merged)        animations and tip-level barplots. Samples described in\n",
      "                       the metadata that are not present in the feature table\n",
      "                       will be automatically filtered out of the\n",
      "                       visualization.                               \u001b[35m[required]\u001b[0m\n",
      "  \u001b[94m--m-feature-metadata-file\u001b[0m METADATA...\n",
      "    (multiple          Feature metadata. Can be used to color nodes (tips\n",
      "     arguments will    and/or internal nodes) in the tree, and to display\n",
      "     be merged)        tip-level barplots. Features described in the metadata\n",
      "                       that are not present in the tree will be automatically\n",
      "                       filtered out of the visualization.           \u001b[35m[optional]\u001b[0m\n",
      "  \u001b[94m--p-ignore-missing-samples\u001b[0m / \u001b[94m--p-no-ignore-missing-samples\u001b[0m\n",
      "                       This will suppress the error raised when the feature\n",
      "                       table contains samples that are not present in the\n",
      "                       sample metadata. Samples without metadata are included\n",
      "                       in the visualization by setting all of their metadata\n",
      "                       values to \"This sample has no metadata\". Note that this\n",
      "                       flag will only be applied if at least one sample is\n",
      "                       present in both the feature table and the metadata.\n",
      "                                                              \u001b[35m[default: False]\u001b[0m\n",
      "  \u001b[94m--p-filter-extra-samples\u001b[0m / \u001b[94m--p-no-filter-extra-samples\u001b[0m\n",
      "                       This will suppress the error raised when samples in\n",
      "                       the feature table are not included in the ordination.\n",
      "                       These samples will be will be removed from the\n",
      "                       visualization if this flag is passed. Note that this\n",
      "                       flag will only be applied if at least one sample in the\n",
      "                       table is also present in the ordination.\n",
      "                                                              \u001b[35m[default: False]\u001b[0m\n",
      "  \u001b[94m--p-filter-missing-features\u001b[0m / \u001b[94m--p-no-filter-missing-features\u001b[0m\n",
      "                       This will suppress the error raised when the feature\n",
      "                       table contains features that are not present as tips in\n",
      "                       the tree. These features will be removed from the\n",
      "                       visualization if this flag is passed. Note that this\n",
      "                       flag will only be applied if at least one feature in\n",
      "                       the table is also present as a tip in the tree.\n",
      "                                                              \u001b[35m[default: False]\u001b[0m\n",
      "  \u001b[94m--p-number-of-features\u001b[0m INTEGER\n",
      "    \u001b[32mRange(1, None)\u001b[0m     The number of most important features (arrows) to\n",
      "                       display in the ordination. \"Importance\" is calculated\n",
      "                       for each feature based on the vector’s magnitude\n",
      "                       (euclidean distance from origin). Note, this parameter\n",
      "                       is only honored when a biplot is input.    \u001b[35m[default: 5]\u001b[0m\n",
      "  \u001b[94m--p-shear-to-table\u001b[0m / \u001b[94m--p-no-shear-to-table\u001b[0m\n",
      "                       Determines whether or not to shear the tree to only\n",
      "                       the tips that are present as features in the feature\n",
      "                       table. By default, shears the tree.     \u001b[35m[default: True]\u001b[0m\n",
      "\u001b[1mOutputs\u001b[0m:\n",
      "  \u001b[94m\u001b[4m--o-visualization\u001b[0m VISUALIZATION\n",
      "                                                                    \u001b[35m[required]\u001b[0m\n",
      "\u001b[1mMiscellaneous\u001b[0m:\n",
      "  \u001b[94m--output-dir\u001b[0m PATH    Output unspecified results to a directory\n",
      "  \u001b[94m--verbose\u001b[0m / \u001b[94m--quiet\u001b[0m  Display verbose output to stdout and/or stderr during\n",
      "                       execution of this action. Or silence output if\n",
      "                       execution is successful (silence is golden).\n",
      "  \u001b[94m--example-data\u001b[0m PATH  Write example data and exit.\n",
      "  \u001b[94m--citations\u001b[0m          Show citations and exit.\n",
      "  \u001b[94m--help\u001b[0m               Show this message and exit.\n",
      "\n",
      "\u001b[33m                  There were some problems with the command:                  \u001b[0m\n",
      "\u001b[31m\u001b[1m (1/4?) No such option: --tree Did you mean --i-tree?\u001b[0m\n",
      "\u001b[31m\u001b[1m (2/4?) No such option: --table\u001b[0m\n",
      "\u001b[31m\u001b[1m (3/4?) No such option: --sample-metadata Did you mean --m-sample-metadata-\n",
      "  file?\u001b[0m\n",
      "\u001b[31m\u001b[1m (4/4?) No such option: --feature-metadata Did you mean --m-feature-metadata-\n",
      "  file?\u001b[0m\n"
     ]
    }
   ],
   "source": [
    "!empress community-plot \\\n",
    "    --tree /projects/wol/qiyun/GG2/phylogeny/tree.nwk \\\n",
    "    --table /home/l1joseph/pierce_autism_2024/data/wolr2/gg2/zebra30/196551_zebra.biom/feature-table.biom \\\n",
    "    --sample-metadata data/metadata/Metadata_Final.tsv \\\n",
    "    --feature-metadata ref/lineages.txt \\\n",
    "    --output-dir data/wolr2/gg2/zebra30/empress/empress-tree.qzv"
   ]
  },
  {
   "cell_type": "code",
   "execution_count": 15,
   "id": "1950ab85",
   "metadata": {},
   "outputs": [
    {
     "name": "stdout",
     "output_type": "stream",
     "text": [
      "Usage: \u001b[94mqiime empress community-plot\u001b[0m [OPTIONS]\n",
      "\n",
      "  Generates an interactive phylogenetic tree visualization supporting\n",
      "  interaction with sample and feature metadata and, optionally, Emperor\n",
      "  integration.\n",
      "\n",
      "\u001b[1mInputs\u001b[0m:\n",
      "  \u001b[94m\u001b[4m--i-tree\u001b[0m ARTIFACT    The phylogenetic tree to visualize.\n",
      "    \u001b[32mPhylogeny[Rooted]\u001b[0m                                               \u001b[35m[required]\u001b[0m\n",
      "  \u001b[94m\u001b[4m--i-feature-table\u001b[0m ARTIFACT \u001b[32mFeatureTable[Frequency¹ | RelativeFrequency² |\u001b[0m\n",
      "    \u001b[32mPresenceAbsence³]\u001b[0m  A table that documents which features are in which\n",
      "                       samples. This information allows us to decorate the\n",
      "                       phylogeny by sample metadata. It's expected that all\n",
      "                       features in the table are also present as tips in the\n",
      "                       tree, and that all samples in the table are also\n",
      "                       present in the sample metadata file.         \u001b[35m[required]\u001b[0m\n",
      "  \u001b[94m--i-pcoa\u001b[0m ARTIFACT    Principal coordinates matrix to display simultaneously\n",
      "    \u001b[32mPCoAResults\u001b[0m        with the phylogenetic tree using Emperor.    \u001b[35m[optional]\u001b[0m\n",
      "\u001b[1mParameters\u001b[0m:\n",
      "  \u001b[94m\u001b[4m--m-sample-metadata-file\u001b[0m METADATA...\n",
      "    (multiple          Sample metadata. Can be used to color tips in the tree\n",
      "     arguments will    by the samples they are unique to, and to display\n",
      "     be merged)        animations and tip-level barplots. Samples described in\n",
      "                       the metadata that are not present in the feature table\n",
      "                       will be automatically filtered out of the\n",
      "                       visualization.                               \u001b[35m[required]\u001b[0m\n",
      "  \u001b[94m--m-feature-metadata-file\u001b[0m METADATA...\n",
      "    (multiple          Feature metadata. Can be used to color nodes (tips\n",
      "     arguments will    and/or internal nodes) in the tree, and to display\n",
      "     be merged)        tip-level barplots. Features described in the metadata\n",
      "                       that are not present in the tree will be automatically\n",
      "                       filtered out of the visualization.           \u001b[35m[optional]\u001b[0m\n",
      "  \u001b[94m--p-ignore-missing-samples\u001b[0m / \u001b[94m--p-no-ignore-missing-samples\u001b[0m\n",
      "                       This will suppress the error raised when the feature\n",
      "                       table contains samples that are not present in the\n",
      "                       sample metadata. Samples without metadata are included\n",
      "                       in the visualization by setting all of their metadata\n",
      "                       values to \"This sample has no metadata\". Note that this\n",
      "                       flag will only be applied if at least one sample is\n",
      "                       present in both the feature table and the metadata.\n",
      "                                                              \u001b[35m[default: False]\u001b[0m\n",
      "  \u001b[94m--p-filter-extra-samples\u001b[0m / \u001b[94m--p-no-filter-extra-samples\u001b[0m\n",
      "                       This will suppress the error raised when samples in\n",
      "                       the feature table are not included in the ordination.\n",
      "                       These samples will be will be removed from the\n",
      "                       visualization if this flag is passed. Note that this\n",
      "                       flag will only be applied if at least one sample in the\n",
      "                       table is also present in the ordination.\n",
      "                                                              \u001b[35m[default: False]\u001b[0m\n",
      "  \u001b[94m--p-filter-missing-features\u001b[0m / \u001b[94m--p-no-filter-missing-features\u001b[0m\n",
      "                       This will suppress the error raised when the feature\n",
      "                       table contains features that are not present as tips in\n",
      "                       the tree. These features will be removed from the\n",
      "                       visualization if this flag is passed. Note that this\n",
      "                       flag will only be applied if at least one feature in\n",
      "                       the table is also present as a tip in the tree.\n",
      "                                                              \u001b[35m[default: False]\u001b[0m\n",
      "  \u001b[94m--p-number-of-features\u001b[0m INTEGER\n",
      "    \u001b[32mRange(1, None)\u001b[0m     The number of most important features (arrows) to\n",
      "                       display in the ordination. \"Importance\" is calculated\n",
      "                       for each feature based on the vector’s magnitude\n",
      "                       (euclidean distance from origin). Note, this parameter\n",
      "                       is only honored when a biplot is input.    \u001b[35m[default: 5]\u001b[0m\n",
      "  \u001b[94m--p-shear-to-table\u001b[0m / \u001b[94m--p-no-shear-to-table\u001b[0m\n",
      "                       Determines whether or not to shear the tree to only\n",
      "                       the tips that are present as features in the feature\n",
      "                       table. By default, shears the tree.     \u001b[35m[default: True]\u001b[0m\n",
      "\u001b[1mOutputs\u001b[0m:\n",
      "  \u001b[94m\u001b[4m--o-visualization\u001b[0m VISUALIZATION\n",
      "                                                                    \u001b[35m[required]\u001b[0m\n",
      "\u001b[1mMiscellaneous\u001b[0m:\n",
      "  \u001b[94m--output-dir\u001b[0m PATH    Output unspecified results to a directory\n",
      "  \u001b[94m--verbose\u001b[0m / \u001b[94m--quiet\u001b[0m  Display verbose output to stdout and/or stderr during\n",
      "                       execution of this action. Or silence output if\n",
      "                       execution is successful (silence is golden).\n",
      "  \u001b[94m--example-data\u001b[0m PATH  Write example data and exit.\n",
      "  \u001b[94m--citations\u001b[0m          Show citations and exit.\n",
      "  \u001b[94m--help\u001b[0m               Show this message and exit.\n",
      "\n",
      "\u001b[33m                    There was a problem with the command:                     \u001b[0m\n",
      "\u001b[31m\u001b[1m (1/1) Invalid value for '--i-tree':\n",
      "  '/projects/wol/qiyun/GG2/phylogeny/tree.nwk' is not a QIIME 2 Artifact\n",
      "  (.qza)\u001b[0m\n",
      "\u001b[0m"
     ]
    }
   ],
   "source": [
    "!qiime empress community-plot \\\n",
    "    --i-tree /projects/wol/qiyun/GG2/phylogeny/tree.nwk \\\n",
    "    --i-feature-table data/wolr2/gg2/zebra30/196551_zebra_2022_8.qza \\\n",
    "    --m-sample-metadata-file data/metadata/Metadata_Final.tsv \\\n",
    "    --m-feature-metadata-file ref/lineages.txt \\\n",
    "    --i-pcoa data/wolr2/gg2/zebra30/rpca/ordination.qza \\\n",
    "    --p-filter-extra-samples \\\n",
    "    --o-visualization data/wolr2/gg2/zebra30/empress/empire_q.qzv"
   ]
  },
  {
   "cell_type": "code",
   "execution_count": 5,
   "id": "b6c4cab6",
   "metadata": {},
   "outputs": [
    {
     "name": "stdout",
     "output_type": "stream",
     "text": [
      "Usage: empress [OPTIONS] COMMAND [ARGS]...\n",
      "Try 'empress --help' for help.\n",
      "\n",
      "Error: No such option: -h\n"
     ]
    }
   ],
   "source": [
    "!empress -h"
   ]
  },
  {
   "cell_type": "markdown",
   "id": "d6d3b796",
   "metadata": {},
   "source": [
    "creating gg2 taxonomy"
   ]
  },
  {
   "cell_type": "code",
   "execution_count": 3,
   "id": "dd0fb20c",
   "metadata": {},
   "outputs": [
    {
     "name": "stdout",
     "output_type": "stream",
     "text": [
      "Collecting q2-greengenes2\n",
      "  Downloading q2-greengenes2-2024.1.tar.gz (37 kB)\n",
      "  Preparing metadata (setup.py) ... \u001b[?25ldone\n",
      "\u001b[?25hRequirement already satisfied: biom-format in /home/l1joseph/miniforge3/envs/qiime2-2022.8/lib/python3.8/site-packages (from q2-greengenes2) (2.1.12)\n",
      "Requirement already satisfied: iow in /home/l1joseph/miniforge3/envs/qiime2-2022.8/lib/python3.8/site-packages (from q2-greengenes2) (1.0.5)\n",
      "Requirement already satisfied: redbiom in /home/l1joseph/miniforge3/envs/qiime2-2022.8/lib/python3.8/site-packages (from q2-greengenes2) (0.3.9)\n",
      "Requirement already satisfied: scikit-bio in /home/l1joseph/miniforge3/envs/qiime2-2022.8/lib/python3.8/site-packages (from q2-greengenes2) (0.5.7)\n",
      "Requirement already satisfied: pandas>=0.20.0 in /home/l1joseph/miniforge3/envs/qiime2-2022.8/lib/python3.8/site-packages (from biom-format->q2-greengenes2) (1.4.4)\n",
      "Requirement already satisfied: h5py in /home/l1joseph/miniforge3/envs/qiime2-2022.8/lib/python3.8/site-packages (from biom-format->q2-greengenes2) (2.10.0)\n",
      "Requirement already satisfied: cython in /home/l1joseph/miniforge3/envs/qiime2-2022.8/lib/python3.8/site-packages (from biom-format->q2-greengenes2) (0.29.32)\n",
      "Requirement already satisfied: scipy>=1.3.1 in /home/l1joseph/miniforge3/envs/qiime2-2022.8/lib/python3.8/site-packages (from biom-format->q2-greengenes2) (1.8.1)\n",
      "Requirement already satisfied: numpy>=1.9.2 in /home/l1joseph/miniforge3/envs/qiime2-2022.8/lib/python3.8/site-packages (from biom-format->q2-greengenes2) (1.23.2)\n",
      "Requirement already satisfied: click in /home/l1joseph/miniforge3/envs/qiime2-2022.8/lib/python3.8/site-packages (from biom-format->q2-greengenes2) (8.1.3)\n",
      "Requirement already satisfied: nose>=1.3.7 in /home/l1joseph/miniforge3/envs/qiime2-2022.8/lib/python3.8/site-packages (from iow->q2-greengenes2) (1.3.7)\n",
      "Requirement already satisfied: IPython>=3.2.0 in /home/l1joseph/miniforge3/envs/qiime2-2022.8/lib/python3.8/site-packages (from scikit-bio->q2-greengenes2) (8.5.0)\n",
      "Requirement already satisfied: CacheControl>=0.11.5 in /home/l1joseph/miniforge3/envs/qiime2-2022.8/lib/python3.8/site-packages (from scikit-bio->q2-greengenes2) (0.12.11)\n",
      "Requirement already satisfied: lockfile>=0.10.2 in /home/l1joseph/miniforge3/envs/qiime2-2022.8/lib/python3.8/site-packages (from scikit-bio->q2-greengenes2) (0.12.2)\n",
      "Requirement already satisfied: matplotlib>=1.4.3 in /home/l1joseph/miniforge3/envs/qiime2-2022.8/lib/python3.8/site-packages (from scikit-bio->q2-greengenes2) (3.5.3)\n",
      "Requirement already satisfied: scikit-learn>=0.19.1 in /home/l1joseph/miniforge3/envs/qiime2-2022.8/lib/python3.8/site-packages (from scikit-bio->q2-greengenes2) (0.24.1)\n",
      "Requirement already satisfied: hdmedians>=0.14.1 in /home/l1joseph/miniforge3/envs/qiime2-2022.8/lib/python3.8/site-packages (from scikit-bio->q2-greengenes2) (0.14.2)\n",
      "Requirement already satisfied: natsort>=4.0.3 in /home/l1joseph/miniforge3/envs/qiime2-2022.8/lib/python3.8/site-packages (from scikit-bio->q2-greengenes2) (8.2.0)\n",
      "Requirement already satisfied: decorator>=3.4.2 in /home/l1joseph/miniforge3/envs/qiime2-2022.8/lib/python3.8/site-packages (from scikit-bio->q2-greengenes2) (4.4.2)\n",
      "Requirement already satisfied: nltk in /home/l1joseph/miniforge3/envs/qiime2-2022.8/lib/python3.8/site-packages (from redbiom->q2-greengenes2) (3.8.1)\n",
      "Requirement already satisfied: requests in /home/l1joseph/miniforge3/envs/qiime2-2022.8/lib/python3.8/site-packages (from redbiom->q2-greengenes2) (2.28.1)\n",
      "Requirement already satisfied: msgpack in /home/l1joseph/miniforge3/envs/qiime2-2022.8/lib/python3.8/site-packages (from redbiom->q2-greengenes2) (1.0.4)\n",
      "Requirement already satisfied: joblib in /home/l1joseph/miniforge3/envs/qiime2-2022.8/lib/python3.8/site-packages (from redbiom->q2-greengenes2) (1.1.0)\n",
      "Requirement already satisfied: six in /home/l1joseph/miniforge3/envs/qiime2-2022.8/lib/python3.8/site-packages (from h5py->biom-format->q2-greengenes2) (1.16.0)\n",
      "Requirement already satisfied: stack-data in /home/l1joseph/miniforge3/envs/qiime2-2022.8/lib/python3.8/site-packages (from IPython>=3.2.0->scikit-bio->q2-greengenes2) (0.5.0)\n",
      "Requirement already satisfied: backcall in /home/l1joseph/miniforge3/envs/qiime2-2022.8/lib/python3.8/site-packages (from IPython>=3.2.0->scikit-bio->q2-greengenes2) (0.2.0)\n",
      "Requirement already satisfied: pickleshare in /home/l1joseph/miniforge3/envs/qiime2-2022.8/lib/python3.8/site-packages (from IPython>=3.2.0->scikit-bio->q2-greengenes2) (0.7.5)\n",
      "Requirement already satisfied: pexpect>4.3 in /home/l1joseph/miniforge3/envs/qiime2-2022.8/lib/python3.8/site-packages (from IPython>=3.2.0->scikit-bio->q2-greengenes2) (4.8.0)\n",
      "Requirement already satisfied: jedi>=0.16 in /home/l1joseph/miniforge3/envs/qiime2-2022.8/lib/python3.8/site-packages (from IPython>=3.2.0->scikit-bio->q2-greengenes2) (0.18.1)\n",
      "Requirement already satisfied: prompt-toolkit<3.1.0,>3.0.1 in /home/l1joseph/miniforge3/envs/qiime2-2022.8/lib/python3.8/site-packages (from IPython>=3.2.0->scikit-bio->q2-greengenes2) (3.0.31)\n",
      "Requirement already satisfied: matplotlib-inline in /home/l1joseph/miniforge3/envs/qiime2-2022.8/lib/python3.8/site-packages (from IPython>=3.2.0->scikit-bio->q2-greengenes2) (0.1.6)\n",
      "Requirement already satisfied: pygments>=2.4.0 in /home/l1joseph/miniforge3/envs/qiime2-2022.8/lib/python3.8/site-packages (from IPython>=3.2.0->scikit-bio->q2-greengenes2) (2.13.0)\n",
      "Requirement already satisfied: traitlets>=5 in /home/l1joseph/miniforge3/envs/qiime2-2022.8/lib/python3.8/site-packages (from IPython>=3.2.0->scikit-bio->q2-greengenes2) (5.3.0)\n",
      "Requirement already satisfied: cycler>=0.10 in /home/l1joseph/miniforge3/envs/qiime2-2022.8/lib/python3.8/site-packages (from matplotlib>=1.4.3->scikit-bio->q2-greengenes2) (0.11.0)\n",
      "Requirement already satisfied: pillow>=6.2.0 in /home/l1joseph/miniforge3/envs/qiime2-2022.8/lib/python3.8/site-packages (from matplotlib>=1.4.3->scikit-bio->q2-greengenes2) (9.2.0)\n",
      "Requirement already satisfied: pyparsing>=2.2.1 in /home/l1joseph/miniforge3/envs/qiime2-2022.8/lib/python3.8/site-packages (from matplotlib>=1.4.3->scikit-bio->q2-greengenes2) (3.0.9)\n",
      "Requirement already satisfied: python-dateutil>=2.7 in /home/l1joseph/miniforge3/envs/qiime2-2022.8/lib/python3.8/site-packages (from matplotlib>=1.4.3->scikit-bio->q2-greengenes2) (2.8.2)\n",
      "Requirement already satisfied: kiwisolver>=1.0.1 in /home/l1joseph/miniforge3/envs/qiime2-2022.8/lib/python3.8/site-packages (from matplotlib>=1.4.3->scikit-bio->q2-greengenes2) (1.4.4)\n",
      "Requirement already satisfied: packaging>=20.0 in /home/l1joseph/miniforge3/envs/qiime2-2022.8/lib/python3.8/site-packages (from matplotlib>=1.4.3->scikit-bio->q2-greengenes2) (21.3)\n",
      "Requirement already satisfied: fonttools>=4.22.0 in /home/l1joseph/miniforge3/envs/qiime2-2022.8/lib/python3.8/site-packages (from matplotlib>=1.4.3->scikit-bio->q2-greengenes2) (4.37.1)\n",
      "Requirement already satisfied: pytz>=2020.1 in /home/l1joseph/miniforge3/envs/qiime2-2022.8/lib/python3.8/site-packages (from pandas>=0.20.0->biom-format->q2-greengenes2) (2022.2.1)\n",
      "Requirement already satisfied: threadpoolctl>=2.0.0 in /home/l1joseph/miniforge3/envs/qiime2-2022.8/lib/python3.8/site-packages (from scikit-learn>=0.19.1->scikit-bio->q2-greengenes2) (3.1.0)\n",
      "Requirement already satisfied: tqdm in /home/l1joseph/miniforge3/envs/qiime2-2022.8/lib/python3.8/site-packages (from nltk->redbiom->q2-greengenes2) (4.64.1)\n",
      "Requirement already satisfied: regex>=2021.8.3 in /home/l1joseph/miniforge3/envs/qiime2-2022.8/lib/python3.8/site-packages (from nltk->redbiom->q2-greengenes2) (2023.10.3)\n",
      "Requirement already satisfied: certifi>=2017.4.17 in /home/l1joseph/miniforge3/envs/qiime2-2022.8/lib/python3.8/site-packages (from requests->redbiom->q2-greengenes2) (2024.2.2)\n",
      "Requirement already satisfied: urllib3<1.27,>=1.21.1 in /home/l1joseph/miniforge3/envs/qiime2-2022.8/lib/python3.8/site-packages (from requests->redbiom->q2-greengenes2) (1.26.11)\n",
      "Requirement already satisfied: charset-normalizer<3,>=2 in /home/l1joseph/miniforge3/envs/qiime2-2022.8/lib/python3.8/site-packages (from requests->redbiom->q2-greengenes2) (2.1.1)\n",
      "Requirement already satisfied: idna<4,>=2.5 in /home/l1joseph/miniforge3/envs/qiime2-2022.8/lib/python3.8/site-packages (from requests->redbiom->q2-greengenes2) (3.3)\n",
      "Requirement already satisfied: parso<0.9.0,>=0.8.0 in /home/l1joseph/miniforge3/envs/qiime2-2022.8/lib/python3.8/site-packages (from jedi>=0.16->IPython>=3.2.0->scikit-bio->q2-greengenes2) (0.8.3)\n",
      "Requirement already satisfied: ptyprocess>=0.5 in /home/l1joseph/miniforge3/envs/qiime2-2022.8/lib/python3.8/site-packages (from pexpect>4.3->IPython>=3.2.0->scikit-bio->q2-greengenes2) (0.7.0)\n",
      "Requirement already satisfied: wcwidth in /home/l1joseph/miniforge3/envs/qiime2-2022.8/lib/python3.8/site-packages (from prompt-toolkit<3.1.0,>3.0.1->IPython>=3.2.0->scikit-bio->q2-greengenes2) (0.2.5)\n",
      "Requirement already satisfied: asttokens in /home/l1joseph/miniforge3/envs/qiime2-2022.8/lib/python3.8/site-packages (from stack-data->IPython>=3.2.0->scikit-bio->q2-greengenes2) (2.0.8)\n",
      "Requirement already satisfied: pure-eval in /home/l1joseph/miniforge3/envs/qiime2-2022.8/lib/python3.8/site-packages (from stack-data->IPython>=3.2.0->scikit-bio->q2-greengenes2) (0.2.2)\n",
      "Requirement already satisfied: executing in /home/l1joseph/miniforge3/envs/qiime2-2022.8/lib/python3.8/site-packages (from stack-data->IPython>=3.2.0->scikit-bio->q2-greengenes2) (1.0.0)\n",
      "Building wheels for collected packages: q2-greengenes2\n",
      "  Building wheel for q2-greengenes2 (setup.py) ... \u001b[?25ldone\n",
      "\u001b[?25h  Created wheel for q2-greengenes2: filename=q2_greengenes2-2024.1-py3-none-any.whl size=20592 sha256=0e3332e4dbae62e817648d6160f1ff866bf42c00f79114e789149d3a99e171b1\n",
      "  Stored in directory: /home/l1joseph/.cache/pip/wheels/a3/99/9e/bc7588ae8946cd3dc33405fe53d8699ae03c261c9a4f994054\n",
      "Successfully built q2-greengenes2\n",
      "Installing collected packages: q2-greengenes2\n",
      "Successfully installed q2-greengenes2-2024.1\n"
     ]
    }
   ],
   "source": [
    "!pip install q2-greengenes2"
   ]
  },
  {
   "cell_type": "code",
   "execution_count": 10,
   "id": "8ef2c570",
   "metadata": {},
   "outputs": [
    {
     "ename": "NameError",
     "evalue": "name 'pd' is not defined",
     "output_type": "error",
     "traceback": [
      "\u001b[0;31m---------------------------------------------------------------------------\u001b[0m",
      "\u001b[0;31mNameError\u001b[0m                                 Traceback (most recent call last)",
      "\u001b[1;32m/home/l1joseph/pierce_autism_2024/01c_qurro_gg2.ipynb Cell 11\u001b[0m in \u001b[0;36m1\n\u001b[0;32m----> <a href='vscode-notebook-cell://ssh-remote%2Bbarnacle2/home/l1joseph/pierce_autism_2024/01c_qurro_gg2.ipynb#X13sdnNjb2RlLXJlbW90ZQ%3D%3D?line=0'>1</a>\u001b[0m bird \u001b[39m=\u001b[39m pd\u001b[39m.\u001b[39mread_csv(\u001b[39m\"\u001b[39m\u001b[39m/home/lpatel/projects/2024-03-04_pierce-autism/scripts/MARS_Birdman/birdman/asd/inferences-results/195330_zebra.beta_var.dx+age.tsv\u001b[39m\u001b[39m\"\u001b[39m, sep\u001b[39m=\u001b[39m\u001b[39m\"\u001b[39m\u001b[39m\\t\u001b[39;00m\u001b[39m\"\u001b[39m)\n",
      "\u001b[0;31mNameError\u001b[0m: name 'pd' is not defined"
     ]
    }
   ],
   "source": [
    "qiime greengenes2 filter-features \\\n",
    "     --i-feature-table woltka.example.biom.qza \\\n",
    "     --i-reference 2022.10.taxonomy.asv.nwk.qza \\\n",
    "     --o-filtered-feature-table woltka_gg2.example.biom.qza\n"
   ]
  },
  {
   "cell_type": "code",
   "execution_count": 5,
   "id": "25eee52c",
   "metadata": {},
   "outputs": [
    {
     "name": "stdout",
     "output_type": "stream",
     "text": [
      "\u001b[32mSaved FeatureData[Taxonomy] to: /home/l1joseph/pierce_autism_2024/data/wolr2/gg2/196551_zebra.taxonomy.qza\u001b[0m\n",
      "\u001b[0m"
     ]
    }
   ],
   "source": [
    "!qiime greengenes2 taxonomy-from-table \\\n",
    "     --i-reference-taxonomy /home/mcdonadt/greengenes2/release/2022.10/2022.10.taxonomy.asv.nwk.qza \\\n",
    "     --i-table /home/l1joseph/pierce_autism_2024/data/wolr2/gg2/zebra30/196551_zebra_2022_8.qza \\\n",
    "     --o-classification /home/l1joseph/pierce_autism_2024/data/wolr2/gg2/196551_zebra.taxonomy.qza"
   ]
  },
  {
   "cell_type": "code",
   "execution_count": null,
   "id": "d994a1d2",
   "metadata": {},
   "outputs": [],
   "source": []
  }
 ],
 "metadata": {
  "kernelspec": {
   "display_name": "Python 3",
   "language": "python",
   "name": "python3"
  },
  "language_info": {
   "codemirror_mode": {
    "name": "ipython",
    "version": 3
   },
   "file_extension": ".py",
   "mimetype": "text/x-python",
   "name": "python",
   "nbconvert_exporter": "python",
   "pygments_lexer": "ipython3",
   "version": "3.6.8"
  }
 },
 "nbformat": 4,
 "nbformat_minor": 5
}
