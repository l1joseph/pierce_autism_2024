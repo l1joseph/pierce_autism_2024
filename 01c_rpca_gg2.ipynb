{
 "cells": [
  {
   "cell_type": "code",
   "execution_count": 2,
   "id": "a569ae7f",
   "metadata": {},
   "outputs": [],
   "source": [
    "import pandas as pd\n",
    "import numpy as np\n",
    "import qiime2 as q2\n",
    "import biom\n",
    "from qiime2 import Artifact, Metadata, Visualization\n",
    "from qiime2.plugins.emperor.actions import biplot\n",
    "from qiime2.plugins.emperor.visualizers import plot\n",
    "from qiime2.plugins.emperor.visualizers import biplot\n",
    "from qiime2.plugins.qurro.actions import loading_plot\n",
    "from qiime2.plugins.gemelli.actions import (joint_rpca, filter_ordination, feature_correlation_table)\n",
    "from qiime2.plugins.gemelli.actions import rpca, qc_rarefy, phylogenetic_ctf_with_taxonomy, phylogenetic_rpca_with_taxonomy\n",
    "from qiime2.plugins.longitudinal.actions import volatility\n",
    "from qiime2.plugins.diversity.visualizers import beta_group_significance\n",
    "from qiime2.plugins.feature_table.methods import filter_samples\n",
    "from biom import load_table\n",
    "\n",
    "# from gemelli.rpca import rpca\n",
    "from qiime2.plugins.gemelli.actions import rpca\n",
    "\n",
    "# plotting\n",
    "import matplotlib\n",
    "import seaborn as sns\n",
    "import matplotlib.pyplot as plt\n",
    "import os\n",
    "\n",
    "plt.style.use('ggplot')\n",
    "%matplotlib inline"
   ]
  },
  {
   "cell_type": "code",
   "execution_count": 38,
   "id": "5b7a6126",
   "metadata": {},
   "outputs": [],
   "source": [
    "# load in biplot, biomtable, taxonomy, and metadata\n",
    "table = Artifact.load(\"data/wolr2/gg2/zebra30/196551_zebra_2024_9.qza\")\n",
    "metadata = Metadata.load('data/metadata/15350_20240110-175840_noblanks.txt')\n",
    "taxonomy = Artifact.load('data/wolr2/gg2/zebra30/196551_zebra_2024_9.taxonomy.qza')\n",
    "metadata_df = metadata.to_dataframe()"
   ]
  },
  {
   "cell_type": "code",
   "execution_count": 39,
   "id": "95771955",
   "metadata": {},
   "outputs": [
    {
     "data": {
      "text/html": [
       "<div>\n",
       "<style scoped>\n",
       "    .dataframe tbody tr th:only-of-type {\n",
       "        vertical-align: middle;\n",
       "    }\n",
       "\n",
       "    .dataframe tbody tr th {\n",
       "        vertical-align: top;\n",
       "    }\n",
       "\n",
       "    .dataframe thead th {\n",
       "        text-align: right;\n",
       "    }\n",
       "</style>\n",
       "<table border=\"1\" class=\"dataframe\">\n",
       "  <thead>\n",
       "    <tr style=\"text-align: right;\">\n",
       "      <th></th>\n",
       "      <th>ados_cosotot</th>\n",
       "      <th>ados_cosototrrtot</th>\n",
       "      <th>ados_rrtot</th>\n",
       "      <th>ageatfecalsample</th>\n",
       "      <th>anonymized_name</th>\n",
       "      <th>antibiotics_last_2weeks</th>\n",
       "      <th>attend_daycare</th>\n",
       "      <th>breastfed_morethan1month</th>\n",
       "      <th>collection_date</th>\n",
       "      <th>collection_timestamp</th>\n",
       "      <th>...</th>\n",
       "      <th>sex</th>\n",
       "      <th>taxon_id</th>\n",
       "      <th>title</th>\n",
       "      <th>tube_id</th>\n",
       "      <th>vine_adapbehav_domstd</th>\n",
       "      <th>vine_comtotal_domstd</th>\n",
       "      <th>vine_dlytotal_domstd</th>\n",
       "      <th>vine_mtrtotal_domstd</th>\n",
       "      <th>vine_soctotal_domstd</th>\n",
       "      <th>zipcode</th>\n",
       "    </tr>\n",
       "    <tr>\n",
       "      <th>sample_name</th>\n",
       "      <th></th>\n",
       "      <th></th>\n",
       "      <th></th>\n",
       "      <th></th>\n",
       "      <th></th>\n",
       "      <th></th>\n",
       "      <th></th>\n",
       "      <th></th>\n",
       "      <th></th>\n",
       "      <th></th>\n",
       "      <th></th>\n",
       "      <th></th>\n",
       "      <th></th>\n",
       "      <th></th>\n",
       "      <th></th>\n",
       "      <th></th>\n",
       "      <th></th>\n",
       "      <th></th>\n",
       "      <th></th>\n",
       "      <th></th>\n",
       "      <th></th>\n",
       "    </tr>\n",
       "  </thead>\n",
       "  <tbody>\n",
       "    <tr>\n",
       "      <th>15350.A5U7C.2</th>\n",
       "      <td>8.0</td>\n",
       "      <td>14.0</td>\n",
       "      <td>6.0</td>\n",
       "      <td>35.0</td>\n",
       "      <td>X00235506</td>\n",
       "      <td>0.0</td>\n",
       "      <td>0</td>\n",
       "      <td>1.0</td>\n",
       "      <td>2023-02-08</td>\n",
       "      <td>2023-02-08</td>\n",
       "      <td>...</td>\n",
       "      <td>male</td>\n",
       "      <td>408170.0</td>\n",
       "      <td>Pierce ASD project</td>\n",
       "      <td>363146269.0</td>\n",
       "      <td>82.0</td>\n",
       "      <td>74.0</td>\n",
       "      <td>78.0</td>\n",
       "      <td>100.0</td>\n",
       "      <td>103.0</td>\n",
       "      <td>92026</td>\n",
       "    </tr>\n",
       "    <tr>\n",
       "      <th>15350.A6N5R.1</th>\n",
       "      <td>12.0</td>\n",
       "      <td>18.0</td>\n",
       "      <td>6.0</td>\n",
       "      <td>16.0</td>\n",
       "      <td>X00235660</td>\n",
       "      <td>0.0</td>\n",
       "      <td>0</td>\n",
       "      <td>1.0</td>\n",
       "      <td>2022-06-28</td>\n",
       "      <td>2022-06-28</td>\n",
       "      <td>...</td>\n",
       "      <td>male</td>\n",
       "      <td>408170.0</td>\n",
       "      <td>Pierce ASD project</td>\n",
       "      <td>363146304.0</td>\n",
       "      <td>95.0</td>\n",
       "      <td>96.0</td>\n",
       "      <td>95.0</td>\n",
       "      <td>102.0</td>\n",
       "      <td>99.0</td>\n",
       "      <td>92154</td>\n",
       "    </tr>\n",
       "    <tr>\n",
       "      <th>15350.A6T5B.1</th>\n",
       "      <td>1.0</td>\n",
       "      <td>2.0</td>\n",
       "      <td>1.0</td>\n",
       "      <td>14.0</td>\n",
       "      <td>X00235600</td>\n",
       "      <td>0.0</td>\n",
       "      <td>1</td>\n",
       "      <td>1.0</td>\n",
       "      <td>2022-04-18</td>\n",
       "      <td>2022-04-18</td>\n",
       "      <td>...</td>\n",
       "      <td>male</td>\n",
       "      <td>408170.0</td>\n",
       "      <td>Pierce ASD project</td>\n",
       "      <td>363146249.0</td>\n",
       "      <td>98.0</td>\n",
       "      <td>94.0</td>\n",
       "      <td>100.0</td>\n",
       "      <td>114.0</td>\n",
       "      <td>101.0</td>\n",
       "      <td>92102</td>\n",
       "    </tr>\n",
       "    <tr>\n",
       "      <th>15350.A7B7Z.1</th>\n",
       "      <td>20.0</td>\n",
       "      <td>27.0</td>\n",
       "      <td>7.0</td>\n",
       "      <td>24.0</td>\n",
       "      <td>X00235539</td>\n",
       "      <td>1.0</td>\n",
       "      <td>0</td>\n",
       "      <td>1.0</td>\n",
       "      <td>2022-06-21</td>\n",
       "      <td>2022-06-21</td>\n",
       "      <td>...</td>\n",
       "      <td>male</td>\n",
       "      <td>408170.0</td>\n",
       "      <td>Pierce ASD project</td>\n",
       "      <td>363146321.0</td>\n",
       "      <td>64.0</td>\n",
       "      <td>54.0</td>\n",
       "      <td>69.0</td>\n",
       "      <td>69.0</td>\n",
       "      <td>65.0</td>\n",
       "      <td>91950</td>\n",
       "    </tr>\n",
       "    <tr>\n",
       "      <th>15350.A7L6P.1</th>\n",
       "      <td>20.0</td>\n",
       "      <td>28.0</td>\n",
       "      <td>8.0</td>\n",
       "      <td>27.0</td>\n",
       "      <td>X00235658</td>\n",
       "      <td>0.0</td>\n",
       "      <td>0</td>\n",
       "      <td>1.0</td>\n",
       "      <td>2022-06-21</td>\n",
       "      <td>2022-06-21</td>\n",
       "      <td>...</td>\n",
       "      <td>male</td>\n",
       "      <td>408170.0</td>\n",
       "      <td>Pierce ASD project</td>\n",
       "      <td>363146256.0</td>\n",
       "      <td>74.0</td>\n",
       "      <td>60.0</td>\n",
       "      <td>92.0</td>\n",
       "      <td>89.0</td>\n",
       "      <td>75.0</td>\n",
       "      <td>91910</td>\n",
       "    </tr>\n",
       "    <tr>\n",
       "      <th>...</th>\n",
       "      <td>...</td>\n",
       "      <td>...</td>\n",
       "      <td>...</td>\n",
       "      <td>...</td>\n",
       "      <td>...</td>\n",
       "      <td>...</td>\n",
       "      <td>...</td>\n",
       "      <td>...</td>\n",
       "      <td>...</td>\n",
       "      <td>...</td>\n",
       "      <td>...</td>\n",
       "      <td>...</td>\n",
       "      <td>...</td>\n",
       "      <td>...</td>\n",
       "      <td>...</td>\n",
       "      <td>...</td>\n",
       "      <td>...</td>\n",
       "      <td>...</td>\n",
       "      <td>...</td>\n",
       "      <td>...</td>\n",
       "      <td>...</td>\n",
       "    </tr>\n",
       "    <tr>\n",
       "      <th>15350.C6Z3P.1</th>\n",
       "      <td>8.0</td>\n",
       "      <td>11.0</td>\n",
       "      <td>3.0</td>\n",
       "      <td>25.0</td>\n",
       "      <td>X00235753</td>\n",
       "      <td>0.0</td>\n",
       "      <td>0</td>\n",
       "      <td>1.0</td>\n",
       "      <td>2023-08-15</td>\n",
       "      <td>2023-08-15</td>\n",
       "      <td>...</td>\n",
       "      <td>female</td>\n",
       "      <td>408170.0</td>\n",
       "      <td>Pierce ASD project</td>\n",
       "      <td>363146274.0</td>\n",
       "      <td>76.0</td>\n",
       "      <td>54.0</td>\n",
       "      <td>92.0</td>\n",
       "      <td>89.0</td>\n",
       "      <td>86.0</td>\n",
       "      <td>91942</td>\n",
       "    </tr>\n",
       "    <tr>\n",
       "      <th>15350.C7T8B.1</th>\n",
       "      <td>9.0</td>\n",
       "      <td>14.0</td>\n",
       "      <td>5.0</td>\n",
       "      <td>34.0</td>\n",
       "      <td>X00235652</td>\n",
       "      <td>0.0</td>\n",
       "      <td>1</td>\n",
       "      <td>1.0</td>\n",
       "      <td>2023-10-13</td>\n",
       "      <td>2023-10-13</td>\n",
       "      <td>...</td>\n",
       "      <td>female</td>\n",
       "      <td>408170.0</td>\n",
       "      <td>Pierce ASD project</td>\n",
       "      <td>363146315.0</td>\n",
       "      <td>66.0</td>\n",
       "      <td>67.0</td>\n",
       "      <td>69.0</td>\n",
       "      <td>69.0</td>\n",
       "      <td>61.0</td>\n",
       "      <td>92111</td>\n",
       "    </tr>\n",
       "    <tr>\n",
       "      <th>15350.C7V5J.1</th>\n",
       "      <td>11.0</td>\n",
       "      <td>15.0</td>\n",
       "      <td>4.0</td>\n",
       "      <td>20.0</td>\n",
       "      <td>X00235548</td>\n",
       "      <td>0.0</td>\n",
       "      <td>0</td>\n",
       "      <td>1.0</td>\n",
       "      <td>2023-10-12</td>\n",
       "      <td>2023-10-12</td>\n",
       "      <td>...</td>\n",
       "      <td>male</td>\n",
       "      <td>408170.0</td>\n",
       "      <td>Pierce ASD project</td>\n",
       "      <td>363146252.0</td>\n",
       "      <td>94.0</td>\n",
       "      <td>92.0</td>\n",
       "      <td>95.0</td>\n",
       "      <td>95.0</td>\n",
       "      <td>101.0</td>\n",
       "      <td>92122</td>\n",
       "    </tr>\n",
       "    <tr>\n",
       "      <th>15350.D2P2Q.1</th>\n",
       "      <td>18.0</td>\n",
       "      <td>26.0</td>\n",
       "      <td>8.0</td>\n",
       "      <td>28.0</td>\n",
       "      <td>X00235478</td>\n",
       "      <td>0.0</td>\n",
       "      <td>1</td>\n",
       "      <td>1.0</td>\n",
       "      <td>2023-10-19</td>\n",
       "      <td>2023-10-19</td>\n",
       "      <td>...</td>\n",
       "      <td>male</td>\n",
       "      <td>408170.0</td>\n",
       "      <td>Pierce ASD project</td>\n",
       "      <td>363146306.0</td>\n",
       "      <td>69.0</td>\n",
       "      <td>60.0</td>\n",
       "      <td>75.0</td>\n",
       "      <td>89.0</td>\n",
       "      <td>73.0</td>\n",
       "      <td>92026</td>\n",
       "    </tr>\n",
       "    <tr>\n",
       "      <th>15350.Z4R4J.1</th>\n",
       "      <td>14.0</td>\n",
       "      <td>18.0</td>\n",
       "      <td>4.0</td>\n",
       "      <td>32.0</td>\n",
       "      <td>X00235739</td>\n",
       "      <td>0.0</td>\n",
       "      <td>0</td>\n",
       "      <td>1.0</td>\n",
       "      <td>2023-07-12</td>\n",
       "      <td>2023-07-12</td>\n",
       "      <td>...</td>\n",
       "      <td>male</td>\n",
       "      <td>408170.0</td>\n",
       "      <td>Pierce ASD project</td>\n",
       "      <td>363146255.0</td>\n",
       "      <td>86.0</td>\n",
       "      <td>91.0</td>\n",
       "      <td>75.0</td>\n",
       "      <td>83.0</td>\n",
       "      <td>103.0</td>\n",
       "      <td>91909</td>\n",
       "    </tr>\n",
       "  </tbody>\n",
       "</table>\n",
       "<p>83 rows × 91 columns</p>\n",
       "</div>"
      ],
      "text/plain": [
       "               ados_cosotot  ados_cosototrrtot  ados_rrtot  ageatfecalsample  \\\n",
       "sample_name                                                                    \n",
       "15350.A5U7C.2           8.0               14.0         6.0              35.0   \n",
       "15350.A6N5R.1          12.0               18.0         6.0              16.0   \n",
       "15350.A6T5B.1           1.0                2.0         1.0              14.0   \n",
       "15350.A7B7Z.1          20.0               27.0         7.0              24.0   \n",
       "15350.A7L6P.1          20.0               28.0         8.0              27.0   \n",
       "...                     ...                ...         ...               ...   \n",
       "15350.C6Z3P.1           8.0               11.0         3.0              25.0   \n",
       "15350.C7T8B.1           9.0               14.0         5.0              34.0   \n",
       "15350.C7V5J.1          11.0               15.0         4.0              20.0   \n",
       "15350.D2P2Q.1          18.0               26.0         8.0              28.0   \n",
       "15350.Z4R4J.1          14.0               18.0         4.0              32.0   \n",
       "\n",
       "              anonymized_name  antibiotics_last_2weeks attend_daycare  \\\n",
       "sample_name                                                             \n",
       "15350.A5U7C.2       X00235506                      0.0              0   \n",
       "15350.A6N5R.1       X00235660                      0.0              0   \n",
       "15350.A6T5B.1       X00235600                      0.0              1   \n",
       "15350.A7B7Z.1       X00235539                      1.0              0   \n",
       "15350.A7L6P.1       X00235658                      0.0              0   \n",
       "...                       ...                      ...            ...   \n",
       "15350.C6Z3P.1       X00235753                      0.0              0   \n",
       "15350.C7T8B.1       X00235652                      0.0              1   \n",
       "15350.C7V5J.1       X00235548                      0.0              0   \n",
       "15350.D2P2Q.1       X00235478                      0.0              1   \n",
       "15350.Z4R4J.1       X00235739                      0.0              0   \n",
       "\n",
       "               breastfed_morethan1month collection_date collection_timestamp  \\\n",
       "sample_name                                                                    \n",
       "15350.A5U7C.2                       1.0      2023-02-08           2023-02-08   \n",
       "15350.A6N5R.1                       1.0      2022-06-28           2022-06-28   \n",
       "15350.A6T5B.1                       1.0      2022-04-18           2022-04-18   \n",
       "15350.A7B7Z.1                       1.0      2022-06-21           2022-06-21   \n",
       "15350.A7L6P.1                       1.0      2022-06-21           2022-06-21   \n",
       "...                                 ...             ...                  ...   \n",
       "15350.C6Z3P.1                       1.0      2023-08-15           2023-08-15   \n",
       "15350.C7T8B.1                       1.0      2023-10-13           2023-10-13   \n",
       "15350.C7V5J.1                       1.0      2023-10-12           2023-10-12   \n",
       "15350.D2P2Q.1                       1.0      2023-10-19           2023-10-19   \n",
       "15350.Z4R4J.1                       1.0      2023-07-12           2023-07-12   \n",
       "\n",
       "               ...     sex  taxon_id               title      tube_id  \\\n",
       "sample_name    ...                                                      \n",
       "15350.A5U7C.2  ...    male  408170.0  Pierce ASD project  363146269.0   \n",
       "15350.A6N5R.1  ...    male  408170.0  Pierce ASD project  363146304.0   \n",
       "15350.A6T5B.1  ...    male  408170.0  Pierce ASD project  363146249.0   \n",
       "15350.A7B7Z.1  ...    male  408170.0  Pierce ASD project  363146321.0   \n",
       "15350.A7L6P.1  ...    male  408170.0  Pierce ASD project  363146256.0   \n",
       "...            ...     ...       ...                 ...          ...   \n",
       "15350.C6Z3P.1  ...  female  408170.0  Pierce ASD project  363146274.0   \n",
       "15350.C7T8B.1  ...  female  408170.0  Pierce ASD project  363146315.0   \n",
       "15350.C7V5J.1  ...    male  408170.0  Pierce ASD project  363146252.0   \n",
       "15350.D2P2Q.1  ...    male  408170.0  Pierce ASD project  363146306.0   \n",
       "15350.Z4R4J.1  ...    male  408170.0  Pierce ASD project  363146255.0   \n",
       "\n",
       "              vine_adapbehav_domstd  vine_comtotal_domstd  \\\n",
       "sample_name                                                 \n",
       "15350.A5U7C.2                  82.0                  74.0   \n",
       "15350.A6N5R.1                  95.0                  96.0   \n",
       "15350.A6T5B.1                  98.0                  94.0   \n",
       "15350.A7B7Z.1                  64.0                  54.0   \n",
       "15350.A7L6P.1                  74.0                  60.0   \n",
       "...                             ...                   ...   \n",
       "15350.C6Z3P.1                  76.0                  54.0   \n",
       "15350.C7T8B.1                  66.0                  67.0   \n",
       "15350.C7V5J.1                  94.0                  92.0   \n",
       "15350.D2P2Q.1                  69.0                  60.0   \n",
       "15350.Z4R4J.1                  86.0                  91.0   \n",
       "\n",
       "              vine_dlytotal_domstd vine_mtrtotal_domstd  vine_soctotal_domstd  \\\n",
       "sample_name                                                                     \n",
       "15350.A5U7C.2                 78.0                100.0                 103.0   \n",
       "15350.A6N5R.1                 95.0                102.0                  99.0   \n",
       "15350.A6T5B.1                100.0                114.0                 101.0   \n",
       "15350.A7B7Z.1                 69.0                 69.0                  65.0   \n",
       "15350.A7L6P.1                 92.0                 89.0                  75.0   \n",
       "...                            ...                  ...                   ...   \n",
       "15350.C6Z3P.1                 92.0                 89.0                  86.0   \n",
       "15350.C7T8B.1                 69.0                 69.0                  61.0   \n",
       "15350.C7V5J.1                 95.0                 95.0                 101.0   \n",
       "15350.D2P2Q.1                 75.0                 89.0                  73.0   \n",
       "15350.Z4R4J.1                 75.0                 83.0                 103.0   \n",
       "\n",
       "              zipcode  \n",
       "sample_name            \n",
       "15350.A5U7C.2   92026  \n",
       "15350.A6N5R.1   92154  \n",
       "15350.A6T5B.1   92102  \n",
       "15350.A7B7Z.1   91950  \n",
       "15350.A7L6P.1   91910  \n",
       "...               ...  \n",
       "15350.C6Z3P.1   91942  \n",
       "15350.C7T8B.1   92111  \n",
       "15350.C7V5J.1   92122  \n",
       "15350.D2P2Q.1   92026  \n",
       "15350.Z4R4J.1   91909  \n",
       "\n",
       "[83 rows x 91 columns]"
      ]
     },
     "execution_count": 39,
     "metadata": {},
     "output_type": "execute_result"
    }
   ],
   "source": [
    "metadata_df"
   ]
  },
  {
   "cell_type": "code",
   "execution_count": 5,
   "id": "20d52bc7",
   "metadata": {},
   "outputs": [
    {
     "data": {
      "text/plain": [
       "'data/wolr2/gg2/zebra30/rpca/qurro.qzv'"
      ]
     },
     "execution_count": 5,
     "metadata": {},
     "output_type": "execute_result"
    }
   ],
   "source": [
    "if not os.path.exists(f'data/wolr2/gg2/zebra30/rpca'):\n",
    "    os.makedirs(f'data/wolr2/gg2/zebra30/rpca')\n",
    "\n",
    "# ordination, distance = rpca(table, min_sample_count=500)\n",
    "rpca_results = rpca(table, min_sample_count=0)\n",
    "\n",
    "rpca_results.biplot.save(\"data/wolr2/gg2/zebra30/rpca/biplot.qza\")\n",
    "rpca_results.distance_matrix.save(\"data/wolr2/gg2/zebra30/rpca/distance_matrix.qza\")\n",
    "# rpca_results.ordination.save('data/wolr2/gg2/zebra30/rpca/ordination.qza')\n",
    "\n",
    "biplot_viz = biplot(biplot=rpca_results.biplot, number_of_features=15, sample_metadata=metadata, feature_metadata=Metadata(taxonomy.view(pd.DataFrame)))\n",
    "biplot_viz.visualization.save('data/wolr2/gg2/zebra30/rpca/biplot.qzv')\n",
    "\n",
    "qurro_plot = loading_plot(rpca_results.biplot, table, metadata, feature_metadata=Metadata(taxonomy.view(pd.DataFrame)))\n",
    "qurro_plot.visualization.save(\"data/wolr2/gg2/zebra30/rpca/qurro.qzv\")"
   ]
  },
  {
   "cell_type": "code",
   "execution_count": 6,
   "id": "d30f0c3c",
   "metadata": {},
   "outputs": [
    {
     "data": {
      "text/plain": [
       "'data/wolr2/gg2/zebra30/rpca/permanova/dx.qzv'"
      ]
     },
     "execution_count": 6,
     "metadata": {},
     "output_type": "execute_result"
    },
    {
     "data": {
      "text/plain": [
       "<Figure size 640x480 with 0 Axes>"
      ]
     },
     "metadata": {},
     "output_type": "display_data"
    }
   ],
   "source": [
    "# all\n",
    "significance_viz = beta_group_significance(\n",
    "    distance_matrix=rpca_results.distance_matrix,\n",
    "    metadata=metadata.get_column(\"dx\"),\n",
    "    method=\"permanova\",\n",
    "    pairwise=True\n",
    ")\n",
    "\n",
    "os.makedirs(\"data/wolr2/gg2/zebra30/rpca/permanova\", exist_ok=True)\n",
    "significance_viz.visualization.save(\"data/wolr2/gg2/zebra30/rpca/permanova/dx.qzv\")"
   ]
  },
  {
   "cell_type": "code",
   "execution_count": 7,
   "id": "c75e4b31",
   "metadata": {},
   "outputs": [
    {
     "data": {
      "text/plain": [
       "304 x 83 <class 'biom.table.Table'> with 23410 nonzero entries (92% dense)"
      ]
     },
     "execution_count": 7,
     "metadata": {},
     "output_type": "execute_result"
    }
   ],
   "source": [
    "biom_table = table.view(biom.Table)\n",
    "biom_table"
   ]
  },
  {
   "cell_type": "code",
   "execution_count": 8,
   "id": "9fef2914",
   "metadata": {},
   "outputs": [
    {
     "name": "stdout",
     "output_type": "stream",
     "text": [
      "-0.7657897072623497 0.4460549992165166\n"
     ]
    }
   ],
   "source": [
    "QC = True\n",
    "if QC:\n",
    "    from gemelli.rpca import rpca as gemelli_rpca\n",
    "    from gemelli.utils import qc_rarefaction\n",
    "\n",
    "    table = biom_table\n",
    "    ordination, distance = gemelli_rpca(table, min_sample_count=10000)\n",
    "\n",
    "    rare_ordination, rare_distance = gemelli_rpca(table.copy().subsample(10000))\n",
    "    t, p = qc_rarefaction(table, rare_distance, distance)\n",
    "    (t, p)\n",
    "\n",
    "print(t, p)"
   ]
  },
  {
   "cell_type": "code",
   "execution_count": 9,
   "id": "f7ee01fc",
   "metadata": {},
   "outputs": [
    {
     "name": "stdout",
     "output_type": "stream",
     "text": [
      "-0.5391682497611003 0.5912681561210946\n"
     ]
    }
   ],
   "source": [
    "QC = True\n",
    "if QC:\n",
    "    from gemelli.rpca import rpca as gemelli_rpca\n",
    "    from gemelli.utils import qc_rarefaction\n",
    "\n",
    "    table = biom_table\n",
    "    ordination, distance = gemelli_rpca(table, min_sample_count=0)\n",
    "\n",
    "    rare_ordination, rare_distance = gemelli_rpca(table.copy().subsample(10000))\n",
    "    t, p = qc_rarefaction(table, rare_distance, distance)\n",
    "    (t, p)\n",
    "print(t, p)\n"
   ]
  },
  {
   "cell_type": "markdown",
   "id": "9fce65b0",
   "metadata": {},
   "source": [
    "# TP-TD"
   ]
  },
  {
   "cell_type": "code",
   "execution_count": 19,
   "id": "22add921",
   "metadata": {},
   "outputs": [],
   "source": [
    "table = Artifact.load(\"data/wolr2/gg2/zebra30/196551_zebra_2024_9.qza\")\n",
    "metadata = Metadata.load('data/metadata/15350_20240110-175840_noblanks.txt')\n",
    "taxonomy = Artifact.load('data/wolr2/gg2/zebra30/196551_zebra_2024_9.taxonomy.qza')\n",
    "metadata_df = metadata.to_dataframe()\n"
   ]
  },
  {
   "cell_type": "code",
   "execution_count": 20,
   "id": "e58356ac",
   "metadata": {},
   "outputs": [
    {
     "name": "stdout",
     "output_type": "stream",
     "text": [
      "-1    20\n",
      " 0    34\n",
      " 1    29\n",
      "Name: dx_eyetrack, dtype: int64\n",
      "-1    20\n",
      " 1    29\n",
      "Name: dx_eyetrack, dtype: int64\n"
     ]
    }
   ],
   "source": [
    "\n",
    "# Create dx_eyetrack column based on TP counts\n",
    "tp_count = (metadata_df[['dx_compsocial', 'dx_geopref', 'dx_mtrtechno', 'dx_mtrtraffic', 'dx_outdoorplay']] == 'TP').sum(axis=1)\n",
    "\n",
    "def get_dx_eyetrack(row, tp_count_value):\n",
    "    if row['dx'] == 'TD':\n",
    "        return -1\n",
    "    elif tp_count_value == 0:\n",
    "        return 0\n",
    "    else:  # tp_count_value >= 1\n",
    "        return 1\n",
    "\n",
    "metadata_df['dx_eyetrack'] = metadata_df.apply(lambda row: get_dx_eyetrack(row, tp_count[row.name]), axis=1)\n",
    "\n",
    "print(metadata_df['dx_eyetrack'].value_counts().sort_index())\n",
    "\n",
    "# Filter to only TD (-1) or TP (1) samples\n",
    "metadata_df_td_tp = metadata_df[metadata_df['dx_eyetrack'].isin([-1, 1])].copy()\n",
    "print(metadata_df_td_tp['dx_eyetrack'].value_counts().sort_index())"
   ]
  },
  {
   "cell_type": "code",
   "execution_count": 21,
   "id": "62a219f9",
   "metadata": {},
   "outputs": [
    {
     "name": "stdout",
     "output_type": "stream",
     "text": [
      "\n",
      "Samples in table: 83\n",
      "Samples in filtered metadata (TD + TP): 49\n",
      "Common samples: 49\n"
     ]
    }
   ],
   "source": [
    "table_view = table.view(pd.DataFrame)\n",
    "\n",
    "# Find samples that are in both the Table and metadata TD/TP\n",
    "table_samples = set(table_view.index)\n",
    "metadata_samples = set(metadata_df_td_tp.index)\n",
    "common_samples = list(table_samples.intersection(metadata_samples))\n",
    "\n",
    "print(f\"\\nSamples in table: {len(table_samples)}\")\n",
    "print(f\"Samples in filtered metadata (TD + TP): {len(metadata_samples)}\")\n",
    "print(f\"Common samples: {len(common_samples)}\")\n",
    "\n",
    "metadata_td_tp_filtered = metadata_df_td_tp.loc[common_samples]\n",
    "metadata_td_tp_qiime = Metadata(metadata_td_tp_filtered)\n",
    "\n",
    "table_filtered_result = filter_samples(\n",
    "    table=table,\n",
    "    metadata=metadata_td_tp_qiime\n",
    ")\n",
    "\n",
    "table_filtered = table_filtered_result.filtered_table"
   ]
  },
  {
   "cell_type": "code",
   "execution_count": 23,
   "id": "d99bb648",
   "metadata": {},
   "outputs": [
    {
     "data": {
      "text/plain": [
       "'data/wolr2/gg2/zebra30/rpca/qurro_tdtp.qzv'"
      ]
     },
     "execution_count": 23,
     "metadata": {},
     "output_type": "execute_result"
    }
   ],
   "source": [
    "# ordination, distance = rpca(table, min_sample_count=500)\n",
    "rpca_results_tdtp = rpca(table_filtered, min_sample_count=0)\n",
    "\n",
    "rpca_results_tdtp.biplot.save(\"data/wolr2/gg2/zebra30/rpca/biplot_tdtp.qza\")\n",
    "rpca_results_tdtp.distance_matrix.save(\"data/wolr2/gg2/zebra30/rpca/distance_matrix_tdtp.qza\")\n",
    "\n",
    "\n",
    "biplot_viz_tdtp = biplot(biplot=rpca_results_tdtp.biplot, number_of_features=15, sample_metadata=metadata_td_tp_qiime, feature_metadata=Metadata(taxonomy.view(pd.DataFrame)))\n",
    "biplot_viz_tdtp.visualization.save('data/wolr2/gg2/zebra30/rpca/biplot_tdtp.qzv')\n",
    "\n",
    "qurro_plot_tdtp = loading_plot(rpca_results_tdtp.biplot, table_filtered, metadata_td_tp_qiime, feature_metadata=Metadata(taxonomy.view(pd.DataFrame)))\n",
    "qurro_plot_tdtp.visualization.save(\"data/wolr2/gg2/zebra30/rpca/qurro_tdtp.qzv\")"
   ]
  },
  {
   "cell_type": "code",
   "execution_count": 24,
   "id": "9cb50ceb",
   "metadata": {},
   "outputs": [
    {
     "data": {
      "text/plain": [
       "'data/wolr2/gg2/zebra30/rpca/permanova/dx_tdtp.qzv'"
      ]
     },
     "execution_count": 24,
     "metadata": {},
     "output_type": "execute_result"
    },
    {
     "data": {
      "text/plain": [
       "<Figure size 640x480 with 0 Axes>"
      ]
     },
     "metadata": {},
     "output_type": "display_data"
    }
   ],
   "source": [
    "# all\n",
    "significance_viz_tdtp = beta_group_significance(\n",
    "    distance_matrix=rpca_results_tdtp.distance_matrix,\n",
    "    metadata=metadata_td_tp_qiime.get_column(\"dx\"),\n",
    "    method=\"permanova\",\n",
    "    pairwise=True\n",
    ")\n",
    "\n",
    "significance_viz_tdtp.visualization.save(\"data/wolr2/gg2/zebra30/rpca/permanova/dx_tdtp.qzv\")"
   ]
  },
  {
   "cell_type": "code",
   "execution_count": 25,
   "id": "f766b0fa",
   "metadata": {},
   "outputs": [
    {
     "data": {
      "text/plain": [
       "304 x 49 <class 'biom.table.Table'> with 13807 nonzero entries (92% dense)"
      ]
     },
     "execution_count": 25,
     "metadata": {},
     "output_type": "execute_result"
    }
   ],
   "source": [
    "biom_table = table_filtered.view(biom.Table)\n",
    "biom_table"
   ]
  },
  {
   "cell_type": "code",
   "execution_count": 26,
   "id": "60fa8c9f",
   "metadata": {},
   "outputs": [
    {
     "name": "stdout",
     "output_type": "stream",
     "text": [
      "-0.28481325350224684 0.7770655801212751\n"
     ]
    }
   ],
   "source": [
    "QC = True\n",
    "if QC:\n",
    "    from gemelli.rpca import rpca as gemelli_rpca\n",
    "    from gemelli.utils import qc_rarefaction\n",
    "\n",
    "    table = biom_table\n",
    "    ordination, distance = gemelli_rpca(table, min_sample_count=10000)\n",
    "\n",
    "    rare_ordination, rare_distance = gemelli_rpca(table.copy().subsample(10000))\n",
    "    t, p = qc_rarefaction(table, rare_distance, distance)\n",
    "    (t, p)\n",
    "\n",
    "print(t, p)"
   ]
  },
  {
   "cell_type": "code",
   "execution_count": 27,
   "id": "57893b74",
   "metadata": {},
   "outputs": [
    {
     "name": "stdout",
     "output_type": "stream",
     "text": [
      "-0.5340547959152193 0.5958752904708084\n"
     ]
    }
   ],
   "source": [
    "QC = True\n",
    "if QC:\n",
    "    from gemelli.rpca import rpca as gemelli_rpca\n",
    "    from gemelli.utils import qc_rarefaction\n",
    "\n",
    "    table = biom_table\n",
    "    ordination, distance = gemelli_rpca(table, min_sample_count=0)\n",
    "\n",
    "    rare_ordination, rare_distance = gemelli_rpca(table.copy().subsample(10000))\n",
    "    t, p = qc_rarefaction(table, rare_distance, distance)\n",
    "    (t, p)\n",
    "print(t, p)\n"
   ]
  },
  {
   "cell_type": "markdown",
   "id": "5903d8b7",
   "metadata": {},
   "source": [
    "# Phylo-RPCA"
   ]
  },
  {
   "cell_type": "code",
   "execution_count": 3,
   "id": "ac61e272",
   "metadata": {},
   "outputs": [],
   "source": [
    "table = Artifact.load(\"data/wolr2/gg2/zebra30/196551_zebra_2024_9.qza\")\n",
    "metadata = Metadata.load('data/metadata/15350_20240110-175840_noblanks.txt')\n",
    "taxonomy = Artifact.load('data/wolr2/gg2/zebra30/196551_zebra_2024_9.taxonomy.qza')\n",
    "metadata_df = metadata.to_dataframe()\n",
    "phylogeny = Artifact.import_data(\"Phylogeny[Rooted]\", \"ref/gg2/2024.09.phylogeny.asv.nwk\")\n"
   ]
  },
  {
   "cell_type": "code",
   "execution_count": 4,
   "id": "b16e2bd5",
   "metadata": {},
   "outputs": [
    {
     "data": {
      "text/plain": [
       "'data/wolr2/gg2/zebra30/rpca/phylo_distance_matrix.qza'"
      ]
     },
     "execution_count": 4,
     "metadata": {},
     "output_type": "execute_result"
    }
   ],
   "source": [
    "phylo_rpca_results = phylogenetic_rpca_with_taxonomy(table, phylogeny, taxonomy.view(Metadata), min_sample_count=10000)\n",
    "phylo_rpca_taxonomy = phylo_rpca_results.t2t_taxonomy.view(Metadata).to_dataframe()\n",
    "phylo_rpca_results.biplot.save(\"data/wolr2/gg2/zebra30/rpca/phylo_biplot.qza\")\n",
    "phylo_rpca_results.distance_matrix.save(\"data/wolr2/gg2/zebra30/rpca/phylo_distance_matrix.qza\")"
   ]
  },
  {
   "cell_type": "code",
   "execution_count": 10,
   "id": "2f7fe5b2",
   "metadata": {},
   "outputs": [
    {
     "name": "stderr",
     "output_type": "stream",
     "text": [
      "/opt/homebrew/Caskroom/miniconda/base/envs/qiime2-shotgun-2024.2/lib/python3.8/site-packages/empress/tools.py:251: DataMatchingWarning: 303 feature(s) in the table were not present as tips in the tree. These feature(s) have been removed from the visualization.\n",
      "  warnings.warn(\n"
     ]
    },
    {
     "data": {
      "text/plain": [
       "'data/wolr2/gg2/zebra30/rpca/phylo_rpca_joint_biplot.qzv'"
      ]
     },
     "execution_count": 10,
     "metadata": {},
     "output_type": "execute_result"
    }
   ],
   "source": [
    "from qiime2.plugins.empress.actions import community_plot\n",
    "\n",
    "joint_tree_biplot = community_plot(phylo_rpca_results.counts_by_node_tree,\n",
    "                                   phylo_rpca_results.counts_by_node,\n",
    "                                   metadata,\n",
    "                                   pcoa = phylo_rpca_results.biplot,\n",
    "                                   feature_metadata = Metadata(phylo_rpca_taxonomy),\n",
    "                                   number_of_features=50,\n",
    "                                   ignore_missing_samples=False,\n",
    "                                   filter_extra_samples=False,\n",
    "                                   filter_missing_features=True)\n",
    "joint_tree_biplot.visualization.save('data/wolr2/gg2/zebra30/rpca/phylo_rpca_joint_biplot.qzv')"
   ]
  },
  {
   "cell_type": "code",
   "execution_count": 11,
   "metadata": {},
   "outputs": [
    {
     "data": {
      "text/plain": [
       "'data/wolr2/gg2/zebra30/rpca/phylo_rpca_qurro.qzv'"
      ]
     },
     "execution_count": 11,
     "metadata": {},
     "output_type": "execute_result"
    }
   ],
   "source": [
    "qurro_plot = loading_plot(phylo_rpca_results.biplot, phylo_rpca_results.counts_by_node, metadata, feature_metadata = Metadata(phylo_rpca_taxonomy))\n",
    "qurro_plot.visualization.save(\"data/wolr2/gg2/zebra30/rpca/phylo_rpca_qurro.qzv\")"
   ]
  },
  {
   "cell_type": "code",
   "execution_count": null,
   "id": "55590038",
   "metadata": {},
   "outputs": [],
   "source": []
  }
 ],
 "metadata": {
  "kernelspec": {
   "display_name": "Python 3",
   "language": "python",
   "name": "python3"
  },
  "language_info": {
   "codemirror_mode": {
    "name": "ipython",
    "version": 3
   },
   "file_extension": ".py",
   "mimetype": "text/x-python",
   "name": "python",
   "nbconvert_exporter": "python",
   "pygments_lexer": "ipython3",
   "version": "3.8.18"
  }
 },
 "nbformat": 4,
 "nbformat_minor": 5
}
