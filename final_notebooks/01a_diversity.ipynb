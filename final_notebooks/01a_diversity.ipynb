{
 "cells": [
  {
   "cell_type": "markdown",
   "id": "76652540",
   "metadata": {},
   "source": [
    "# Pierce - Diversity Metrics\n",
    "Author: Leo Joseph (l1joseph@ucsd.edu)"
   ]
  },
  {
   "cell_type": "markdown",
   "id": "8c8a9a34",
   "metadata": {},
   "source": [
    "Note: All data here is unfiltered and has no coverage filter applied"
   ]
  },
  {
   "cell_type": "code",
   "execution_count": 15,
   "id": "b3ec4b3f",
   "metadata": {},
   "outputs": [],
   "source": [
    "import pandas as pd\n",
    "import os\n",
    "import qupid\n",
    "import seaborn as sns\n",
    "import matplotlib.pyplot as plt\n",
    "%matplotlib inline\n",
    "\n",
    "from scipy.stats import kruskal\n",
    "from scipy.stats import mannwhitneyu\n",
    "\n",
    "# qiime2 imports\n",
    "import qiime2 as q2\n",
    "from qiime2 import Artifact, Metadata, Visualization\n",
    "from qiime2.plugins.feature_table.methods import filter_features, filter_samples\n",
    "import qiime2.plugins.diversity.actions as diversity_actions\n",
    "\n",
    "\n",
    "# birdman imports\n",
    "import biom\n",
    "import numpy as np\n"
   ]
  },
  {
   "cell_type": "markdown",
   "id": "9401ec5b",
   "metadata": {},
   "source": [
    "## Computing all alpha & beta diversity metrics"
   ]
  },
  {
   "cell_type": "code",
   "execution_count": 2,
   "id": "4c3139b2",
   "metadata": {},
   "outputs": [],
   "source": [
    "table = Artifact.import_data(\"FeatureTable[Frequency]\", \"qiita/195330_none.biom\")\n",
    "phylogeny = Artifact.import_data(\"Phylogeny[Rooted]\", \"ref/tree.nwk\")\n",
    "sampling_depth = 500000\n",
    "metadata = Metadata.load(\"qiita/15350_20240110-175840.txt\")"
   ]
  },
  {
   "cell_type": "markdown",
   "id": "9fc9acc0",
   "metadata": {},
   "source": [
    "### Compute metrics"
   ]
  },
  {
   "cell_type": "code",
   "execution_count": 3,
   "id": "9741be53",
   "metadata": {},
   "outputs": [
    {
     "name": "stderr",
     "output_type": "stream",
     "text": [
      "/opt/homebrew/Caskroom/miniconda/base/envs/qiime2-shotgun-2024.2/lib/python3.8/site-packages/skbio/stats/ordination/_principal_coordinate_analysis.py:143: RuntimeWarning: The result contains negative eigenvalues. Please compare their magnitude with the magnitude of some of the largest positive eigenvalues. If the negative ones are smaller, it's probably safe to ignore them, but if they are large in magnitude, the results won't be useful. See the Notes section for more details. The smallest eigenvalue is -0.13972863351619721 and the largest is 3.672945659963068.\n",
      "  warn(\n"
     ]
    },
    {
     "name": "stdout",
     "output_type": "stream",
     "text": [
      "Running external command line application. This may print messages to stdout and/or stderr.\n",
      "The command being run is below. This command cannot be manually re-run as it will depend on temporary files that no longer exist.\n",
      "\n",
      "Command:\n",
      "\n",
      "faithpd -i /var/folders/tx/vgccmrkj1fz1zv99j496_3k80000gn/T/qiime2/leojo/data/8d9b926d-67ec-4e10-8ddf-01e30cfb289b/data/feature-table.biom -t /var/folders/tx/vgccmrkj1fz1zv99j496_3k80000gn/T/qiime2/leojo/data/8997ebc9-ce23-4183-81de-8f51f67a38cd/data/tree.nwk -o /var/folders/tx/vgccmrkj1fz1zv99j496_3k80000gn/T/q2-AlphaDiversityFormat-v328m2v7\n",
      "\n",
      "Running external command line application. This may print messages to stdout and/or stderr.\n",
      "The command being run is below. This command cannot be manually re-run as it will depend on temporary files that no longer exist.\n",
      "\n",
      "Command:\n",
      "\n",
      "ssu -i /var/folders/tx/vgccmrkj1fz1zv99j496_3k80000gn/T/qiime2/leojo/data/8d9b926d-67ec-4e10-8ddf-01e30cfb289b/data/feature-table.biom -t /var/folders/tx/vgccmrkj1fz1zv99j496_3k80000gn/T/qiime2/leojo/data/8997ebc9-ce23-4183-81de-8f51f67a38cd/data/tree.nwk -m unweighted -o /var/folders/tx/vgccmrkj1fz1zv99j496_3k80000gn/T/q2-LSMatFormat-m307oep5\n",
      "\n",
      "Running external command line application. This may print messages to stdout and/or stderr.\n",
      "The command being run is below. This command cannot be manually re-run as it will depend on temporary files that no longer exist.\n",
      "\n",
      "Command:\n",
      "\n",
      "ssu -i /var/folders/tx/vgccmrkj1fz1zv99j496_3k80000gn/T/qiime2/leojo/data/8d9b926d-67ec-4e10-8ddf-01e30cfb289b/data/feature-table.biom -t /var/folders/tx/vgccmrkj1fz1zv99j496_3k80000gn/T/qiime2/leojo/data/8997ebc9-ce23-4183-81de-8f51f67a38cd/data/tree.nwk -m weighted_unnormalized -o /var/folders/tx/vgccmrkj1fz1zv99j496_3k80000gn/T/q2-LSMatFormat-oo14vlpz\n",
      "\n"
     ]
    },
    {
     "name": "stderr",
     "output_type": "stream",
     "text": [
      "/opt/homebrew/Caskroom/miniconda/base/envs/qiime2-shotgun-2024.2/lib/python3.8/site-packages/skbio/stats/ordination/_principal_coordinate_analysis.py:143: RuntimeWarning: The result contains negative eigenvalues. Please compare their magnitude with the magnitude of some of the largest positive eigenvalues. If the negative ones are smaller, it's probably safe to ignore them, but if they are large in magnitude, the results won't be useful. See the Notes section for more details. The smallest eigenvalue is -0.2516593170153812 and the largest is 9.627446183853424.\n",
      "  warn(\n"
     ]
    }
   ],
   "source": [
    "action_results = diversity_actions.core_metrics_phylogenetic(\n",
    "    phylogeny=phylogeny,\n",
    "    table=table,\n",
    "    sampling_depth=sampling_depth,\n",
    "    metadata=metadata,\n",
    ")\n",
    "\n",
    "rarefied_table = action_results.rarefied_table\n",
    "faith_pd_vector = action_results.faith_pd_vector\n",
    "observed_features_vector = action_results.observed_features_vector\n",
    "shannon_vector = action_results.shannon_vector\n",
    "evenness_vector = action_results.evenness_vector\n",
    "unweighted_unifrac_distance_matrix = action_results.unweighted_unifrac_distance_matrix\n",
    "weighted_unifrac_distance_matrix = action_results.weighted_unifrac_distance_matrix\n",
    "jaccard_distance_matrix = action_results.jaccard_distance_matrix\n",
    "bray_curtis_distance_matrix = action_results.bray_curtis_distance_matrix\n",
    "unweighted_unifrac_pcoa_results = action_results.unweighted_unifrac_pcoa_results\n",
    "weighted_unifrac_pcoa_results = action_results.weighted_unifrac_pcoa_results\n",
    "jaccard_pcoa_results = action_results.jaccard_pcoa_results\n",
    "bray_curtis_pcoa_results = action_results.bray_curtis_pcoa_results\n",
    "unweighted_unifrac_emperor_viz = action_results.unweighted_unifrac_emperor\n",
    "weighted_unifrac_emperor_viz = action_results.weighted_unifrac_emperor\n",
    "jaccard_emperor_viz = action_results.jaccard_emperor\n",
    "bray_curtis_emperor_viz = action_results.bray_curtis_emperor"
   ]
  },
  {
   "cell_type": "code",
   "execution_count": 4,
   "id": "74973a03",
   "metadata": {},
   "outputs": [],
   "source": [
    "faith_pd_group_significance_viz, = diversity_actions.alpha_group_significance(\n",
    "    alpha_diversity=faith_pd_vector,\n",
    "    metadata=metadata,\n",
    ")\n",
    "evenness_group_significance_viz, = diversity_actions.alpha_group_significance(\n",
    "    alpha_diversity=evenness_vector,\n",
    "    metadata=metadata,\n",
    ")"
   ]
  },
  {
   "cell_type": "markdown",
   "id": "6f43bddd",
   "metadata": {},
   "source": [
    "### Save Q2 artifacts"
   ]
  },
  {
   "cell_type": "code",
   "execution_count": 7,
   "id": "7b369682",
   "metadata": {},
   "outputs": [
    {
     "data": {
      "text/plain": [
       "'out/rarefaction_500000/bray_curtis_emperor.qzv'"
      ]
     },
     "execution_count": 7,
     "metadata": {},
     "output_type": "execute_result"
    }
   ],
   "source": [
    "if not os.path.exists(f'out/rarefaction_{sampling_depth}'):\n",
    "    os.makedirs(f'out/rarefaction_{sampling_depth}')\n",
    "\n",
    "rarefied_table.save(f'out/rarefaction_{sampling_depth}/rarefied_table.qza')\n",
    "faith_pd_vector.save(f'out/rarefaction_{sampling_depth}/faith_pd_vector.qza')\n",
    "observed_features_vector.save(f'out/rarefaction_{sampling_depth}/observed_features_vector.qza')\n",
    "shannon_vector.save(f'out/rarefaction_{sampling_depth}/shannon_vector.qza')\n",
    "evenness_vector.save(f'out/rarefaction_{sampling_depth}/evenness_vector.qza')\n",
    "unweighted_unifrac_distance_matrix.save(f'out/rarefaction_{sampling_depth}/unweighted_unifrac_distance_matrix.qza')\n",
    "weighted_unifrac_distance_matrix.save(f'out/rarefaction_{sampling_depth}/weighted_unifrac_distance_matrix.qza')\n",
    "jaccard_distance_matrix.save(f'out/rarefaction_{sampling_depth}/jaccard_distance_matrix.qza')\n",
    "bray_curtis_distance_matrix.save(f'out/rarefaction_{sampling_depth}/bray_curtis_distance_matrix.qza')\n",
    "unweighted_unifrac_pcoa_results.save(f'out/rarefaction_{sampling_depth}/unweighted_unifrac_pcoa_results.qza')\n",
    "weighted_unifrac_pcoa_results.save(f'out/rarefaction_{sampling_depth}/weighted_unifrac_pcoa_results.qza')\n",
    "jaccard_pcoa_results.save(f'out/rarefaction_{sampling_depth}/jaccard_pcoa_results.qza')\n",
    "bray_curtis_pcoa_results.save(f'out/rarefaction_{sampling_depth}/bray_curtis_pcoa_results.qza')\n",
    "unweighted_unifrac_emperor_viz.save(f'out/rarefaction_{sampling_depth}/unweighted_unifrac_emperor.qzv')\n",
    "weighted_unifrac_emperor_viz.save(f'out/rarefaction_{sampling_depth}/weighted_unifrac_emperor.qzv')\n",
    "jaccard_emperor_viz.save(f'out/rarefaction_{sampling_depth}/jaccard_emperor.qzv')\n",
    "bray_curtis_emperor_viz.save(f'out/rarefaction_{sampling_depth}/bray_curtis_emperor.qzv')"
   ]
  },
  {
   "cell_type": "code",
   "execution_count": 8,
   "id": "3401b960",
   "metadata": {},
   "outputs": [
    {
     "data": {
      "text/plain": [
       "'out/rarefaction_500000/evenness_group_significance.qzv'"
      ]
     },
     "execution_count": 8,
     "metadata": {},
     "output_type": "execute_result"
    }
   ],
   "source": [
    "faith_pd_group_significance_viz.save(f'out/rarefaction_{sampling_depth}/faith_pd_group_significance.qzv')\n",
    "evenness_group_significance_viz.save(f'out/rarefaction_{sampling_depth}/evenness_group_significance.qzv')"
   ]
  },
  {
   "cell_type": "markdown",
   "id": "fd3c41f8",
   "metadata": {},
   "source": [
    "## Load Metadata \n",
    "### (from 00_metadata)"
   ]
  },
  {
   "cell_type": "code",
   "execution_count": 6,
   "id": "0ef99394",
   "metadata": {},
   "outputs": [],
   "source": [
    "metadata = Metadata.load('data/metadata/15350_20240110-175840_noblanks.txt')\n",
    "metadata = metadata.to_dataframe()\n",
    "fpd = Artifact.load('out/rarefaction_500000/faith_pd_vector.qza') \n"
   ]
  },
  {
   "cell_type": "code",
   "execution_count": 7,
   "id": "c84dc1af",
   "metadata": {},
   "outputs": [],
   "source": [
    "metadata['ados_cosototrrtot'] = metadata['ados_cosototrrtot'].astype(int)\n",
    "metadata['ados_cosotot'] = metadata['ados_cosotot'].astype(int)\n",
    "metadata['ados_rrtot'] = metadata['ados_rrtot'].astype(int)\n",
    "metadata['dna_extracted'] = metadata['dna_extracted'].astype(int)"
   ]
  },
  {
   "cell_type": "markdown",
   "id": "ed78ddcf",
   "metadata": {},
   "source": [
    "Join with faithpd"
   ]
  },
  {
   "cell_type": "code",
   "execution_count": 9,
   "id": "5321c590",
   "metadata": {},
   "outputs": [],
   "source": [
    "asd_fpd = metadata.join(fpd.view(pd.Series))"
   ]
  },
  {
   "cell_type": "markdown",
   "id": "dc9ac0f5",
   "metadata": {},
   "source": [
    "### Exploring Alpha Diversity"
   ]
  },
  {
   "cell_type": "code",
   "execution_count": 29,
   "id": "a614de0e",
   "metadata": {},
   "outputs": [
    {
     "name": "stderr",
     "output_type": "stream",
     "text": [
      "/var/folders/tx/vgccmrkj1fz1zv99j496_3k80000gn/T/ipykernel_30550/3028631783.py:2: UserWarning: \n",
      "The palette list has fewer values (1) than needed (2) and will cycle, which may produce an uninterpretable plot.\n",
      "  sns.stripplot(x='dx', y='Shannon', data=alpha_diversity_df, hue='dx', dodge=True, jitter=True, palette=['black'])\n"
     ]
    },
    {
     "data": {
      "image/png": "[encoded data removed]",
      "text/plain": [
       "<Figure size 640x480 with 1 Axes>"
      ]
     },
     "metadata": {},
     "output_type": "display_data"
    }
   ],
   "source": [
    "sns.boxplot(x='dx', y='Shannon', data=alpha_diversity_df, hue='dx', palette=['turquoise', 'skyblue'])\n",
    "sns.stripplot(x='dx', y='Shannon', data=alpha_diversity_df, hue='dx', dodge=True, jitter=True, palette=['black']) \n",
    "\n",
    "plt.title('Alpha Diversity (Shannon)')\n",
    "plt.ylabel('Shannon')\n",
    "plt.legend(loc='upper center', fontsize = \"7\")\n",
    "plt.show()"
   ]
  },
  {
   "cell_type": "code",
   "execution_count": 30,
   "id": "384ad9aa",
   "metadata": {},
   "outputs": [
    {
     "name": "stderr",
     "output_type": "stream",
     "text": [
      "/var/folders/tx/vgccmrkj1fz1zv99j496_3k80000gn/T/ipykernel_30550/1022236493.py:2: UserWarning: \n",
      "The palette list has fewer values (1) than needed (2) and will cycle, which may produce an uninterpretable plot.\n",
      "  sns.stripplot(x='dx', y='Evenness', data=alpha_diversity_df, hue='dx', dodge=True, jitter=True, palette=['black'])\n"
     ]
    },
    {
     "data": {
      "image/png": "[encoded data removed]",
      "text/plain": [
       "<Figure size 640x480 with 1 Axes>"
      ]
     },
     "metadata": {},
     "output_type": "display_data"
    }
   ],
   "source": [
    "sns.boxplot(x='dx', y='Evenness', data=alpha_diversity_df, hue='dx', palette=['turquoise', 'skyblue'])\n",
    "sns.stripplot(x='dx', y='Evenness', data=alpha_diversity_df, hue='dx', dodge=True, jitter=True, palette=['black']) \n",
    "\n",
    "plt.title('Alpha Diversity (Eveness)')\n",
    "plt.ylabel('Eveness')\n",
    "plt.legend(loc='upper center', fontsize = \"7\")\n",
    "plt.show()"
   ]
  },
  {
   "cell_type": "markdown",
   "id": "fcf74b0c",
   "metadata": {},
   "source": [
    "# Coverage Filtering using Zebra"
   ]
  },
  {
   "cell_type": "code",
   "execution_count": 42,
   "id": "c1223ee4",
   "metadata": {},
   "outputs": [],
   "source": [
    "# load table\n",
    "# table = q2.Artifact.import_data('FeatureTable[Frequency]', \"data/wolr2/gg2/196551_feature-table.biom\")\n",
    "table = q2.Artifact.import_data(\"FeatureTable[Frequency]\", \"qiita/195330_none.biom\")\n",
    "\n",
    "metadata = q2.Metadata.load('qiita/15350_20240110-175840.txt')\n",
    "\n",
    "# load coverages\n",
    "coverages = pd.read_csv(\"qiita/195330_coverages/coverage_percentage.txt\", sep='\\t', index_col=0, header=None)\n",
    "\n"
   ]
  },
  {
   "cell_type": "code",
   "execution_count": 43,
   "id": "0d9f2143",
   "metadata": {},
   "outputs": [],
   "source": [
    "def filter_table_by_coverage(feature_table, coverages_df, coverage_threshold):\n",
    "    \"\"\"\n",
    "    Filter the feature table by a given coverage threshold.\n",
    "\n",
    "    Parameters:\n",
    "    - feature_table: QIIME 2 Artifact of type 'FeatureTable[Frequency]'\n",
    "    - coverages_df: pandas DataFrame with coverages, index are OGUs, column 1 is the coverage percentage\n",
    "    - coverage_threshold: float, minimum coverage percentage to retain an OGU\n",
    "\n",
    "    Returns:\n",
    "    - int, the number of OGUs remaining after filtering\n",
    "    \"\"\"\n",
    "    # filter the coverages DataFrame to retain only OGUs above the given threshold\n",
    "    filtered_ogus = coverages_df[coverages_df[1] >= coverage_threshold].index.tolist()\n",
    "\n",
    "    # convert the list of OGUs to QIIME 2 Metadata for filtering\n",
    "    filtered_metadata = Metadata(pd.DataFrame(index=pd.Index(filtered_ogus, name='id')))\n",
    "    \n",
    "    # filter the feature table\n",
    "    filtered_table, = filter_features(table, metadata=filtered_metadata)\n",
    "    \n",
    "    # get the number of features (OGUs) remaining after filtering\n",
    "    filtered_table_df = filtered_table.view(pd.DataFrame)\n",
    "    remaining_ogus = filtered_table_df.shape[1]  # features are columns\n",
    "    \n",
    "    return remaining_ogus"
   ]
  },
  {
   "cell_type": "code",
   "execution_count": 44,
   "id": "6c1b977c",
   "metadata": {},
   "outputs": [],
   "source": [
    "coverage_thresholds = np.arange(1, 100)  # 1% to 100%\n",
    "\n",
    "# record the number of OGUs remaining for each coverage threshold\n",
    "ogus_remaining = []\n",
    "for threshold in coverage_thresholds:\n",
    "    remaining = filter_table_by_coverage(table, coverages, threshold)\n",
    "    ogus_remaining.append(remaining)"
   ]
  },
  {
   "cell_type": "code",
   "execution_count": 45,
   "id": "cbd2e119",
   "metadata": {},
   "outputs": [
    {
     "name": "stdout",
     "output_type": "stream",
     "text": [
      "99\n",
      "[1533, 1145, 990, 878, 795, 753, 715, 677, 648, 632, 608, 570, 554, 542, 523, 514, 508, 505, 495, 486, 479, 472, 466, 458, 451, 447, 440, 436, 432, 428, 422, 418, 412, 411, 408, 403, 397, 395, 392, 389, 386, 383, 379, 379, 375, 371, 366, 362, 362, 361, 361, 355, 355, 353, 349, 345, 343, 340, 339, 331, 328, 328, 322, 320, 317, 313, 312, 308, 304, 303, 302, 297, 296, 292, 290, 288, 288, 285, 281, 277, 276, 270, 261, 259, 255, 246, 241, 239, 229, 220, 208, 194, 184, 161, 142, 112, 84, 60, 29]\n",
      "[ 1  2  3  4  5  6  7  8  9 10 11 12 13 14 15 16 17 18 19 20 21 22 23 24\n",
      " 25 26 27 28 29 30 31 32 33 34 35 36 37 38 39 40 41 42 43 44 45 46 47 48\n",
      " 49 50 51 52 53 54 55 56 57 58 59 60 61 62 63 64 65 66 67 68 69 70 71 72\n",
      " 73 74 75 76 77 78 79 80 81 82 83 84 85 86 87 88 89 90 91 92 93 94 95 96\n",
      " 97 98 99]\n"
     ]
    }
   ],
   "source": [
    "print(threshold)\n",
    "print(ogus_remaining)\n",
    "print(coverage_thresholds)"
   ]
  },
  {
   "cell_type": "code",
   "execution_count": 46,
   "id": "37ffff8b",
   "metadata": {},
   "outputs": [
    {
     "data": {
      "image/png": "[encoded data removed]",
      "text/plain": [
       "<Figure size 1000x600 with 1 Axes>"
      ]
     },
     "metadata": {},
     "output_type": "display_data"
    }
   ],
   "source": [
    "# plot coverage as line graph\n",
    "plt.figure(figsize=(10, 6))\n",
    "sns.lineplot(x=coverage_thresholds, y=ogus_remaining)\n",
    "plt.title('Effect of Coverage Filtration on OGU Count')\n",
    "plt.xlabel('Minimum Coverage Percentage')\n",
    "plt.ylabel('Number of OGUs Remaining')\n",
    "plt.xticks(np.arange(0, 101, 10))\n",
    "plt.axvline(30, color='red', linestyle='--', linewidth=1)\n",
    "plt.grid(True)\n",
    "plt.show()"
   ]
  },
  {
   "cell_type": "code",
   "execution_count": 86,
   "id": "fdcdef81",
   "metadata": {},
   "outputs": [
    {
     "data": {
      "text/plain": [
       "'data/wolr2/zebra30/196551_zebra_2024_9.qza'"
      ]
     },
     "execution_count": 86,
     "metadata": {},
     "output_type": "execute_result"
    }
   ],
   "source": [
    "if not os.path.exists(f'data/wolr2/zebra30'):\n",
    "    os.makedirs(f'data/wolr2/zebra30')\n",
    "\n",
    "threshold = 30 # percentage\n",
    "filtered_ogus = coverages[coverages[1] >= threshold].index.tolist()\n",
    "filtered_metadata = Metadata(pd.DataFrame(index=pd.Index(filtered_ogus, name='id')))\n",
    "filtered_table, = filter_features(table, metadata=filtered_metadata)\n",
    "\n",
    "# blank filter\n",
    "# TODO: ScRUB?\n",
    "metadata_df = metadata.to_dataframe()\n",
    "filtered_metadata_df = metadata_df[~metadata_df.index.str.contains('BLANK')]\n",
    "filtered_metadata = q2.Metadata(filtered_metadata_df)\n",
    "filtered_table, = filter_samples(table=filtered_table, metadata=filtered_metadata)\n",
    "filtered_table.save(\"data/wolr2/zebra30/196551_zebra_2024_9.qza\")"
   ]
  },
  {
   "cell_type": "markdown",
   "id": "b4d69ac2",
   "metadata": {},
   "source": [
    "# Filter to GG2"
   ]
  },
  {
   "cell_type": "code",
   "execution_count": 48,
   "id": "3b54b17d",
   "metadata": {},
   "outputs": [
    {
     "name": "stdout",
     "output_type": "stream",
     "text": [
      "Collecting q2-greengenes2\n",
      "  Downloading q2-greengenes2-2024.1.tar.gz (37 kB)\n",
      "  Preparing metadata (setup.py) ... \u001b[?25ldone\n",
      "\u001b[?25hRequirement already satisfied: biom-format in /opt/homebrew/Caskroom/miniconda/base/envs/qiime2-shotgun-2024.2/lib/python3.8/site-packages (from q2-greengenes2) (2.1.14)\n",
      "Requirement already satisfied: iow in /opt/homebrew/Caskroom/miniconda/base/envs/qiime2-shotgun-2024.2/lib/python3.8/site-packages (from q2-greengenes2) (1.0.5)\n",
      "Collecting redbiom (from q2-greengenes2)\n",
      "  Downloading redbiom-0.3.9.tar.gz (414 kB)\n",
      "\u001b[2K     \u001b[90m━━━━━━━━━━━━━━━━━━━━━━━━━━━━━━━━━━━━━━\u001b[0m \u001b[32m414.1/414.1 kB\u001b[0m \u001b[31m14.1 MB/s\u001b[0m eta \u001b[36m0:00:00\u001b[0m\n",
      "\u001b[?25h  Preparing metadata (setup.py) ... \u001b[?25ldone\n",
      "\u001b[?25hRequirement already satisfied: scikit-bio in /opt/homebrew/Caskroom/miniconda/base/envs/qiime2-shotgun-2024.2/lib/python3.8/site-packages (from q2-greengenes2) (0.5.8)\n",
      "Requirement already satisfied: click in /opt/homebrew/Caskroom/miniconda/base/envs/qiime2-shotgun-2024.2/lib/python3.8/site-packages (from biom-format->q2-greengenes2) (8.1.7)\n",
      "Requirement already satisfied: numpy>=1.9.2 in /opt/homebrew/Caskroom/miniconda/base/envs/qiime2-shotgun-2024.2/lib/python3.8/site-packages (from biom-format->q2-greengenes2) (1.24.4)\n",
      "Requirement already satisfied: scipy>=1.3.1 in /opt/homebrew/Caskroom/miniconda/base/envs/qiime2-shotgun-2024.2/lib/python3.8/site-packages (from biom-format->q2-greengenes2) (1.10.0)\n",
      "Requirement already satisfied: pandas>=0.20.0 in /opt/homebrew/Caskroom/miniconda/base/envs/qiime2-shotgun-2024.2/lib/python3.8/site-packages (from biom-format->q2-greengenes2) (1.5.3)\n",
      "Requirement already satisfied: cython>=0.29 in /opt/homebrew/Caskroom/miniconda/base/envs/qiime2-shotgun-2024.2/lib/python3.8/site-packages (from biom-format->q2-greengenes2) (3.0.9)\n",
      "Requirement already satisfied: h5py in /opt/homebrew/Caskroom/miniconda/base/envs/qiime2-shotgun-2024.2/lib/python3.8/site-packages (from biom-format->q2-greengenes2) (3.8.0)\n",
      "Requirement already satisfied: nose>=1.3.7 in /opt/homebrew/Caskroom/miniconda/base/envs/qiime2-shotgun-2024.2/lib/python3.8/site-packages (from iow->q2-greengenes2) (1.3.7)\n",
      "Requirement already satisfied: lockfile>=0.10.2 in /opt/homebrew/Caskroom/miniconda/base/envs/qiime2-shotgun-2024.2/lib/python3.8/site-packages (from scikit-bio->q2-greengenes2) (0.12.2)\n",
      "Requirement already satisfied: CacheControl>=0.11.5 in /opt/homebrew/Caskroom/miniconda/base/envs/qiime2-shotgun-2024.2/lib/python3.8/site-packages (from scikit-bio->q2-greengenes2) (0.14.0)\n",
      "Requirement already satisfied: decorator>=3.4.2 in /opt/homebrew/Caskroom/miniconda/base/envs/qiime2-shotgun-2024.2/lib/python3.8/site-packages (from scikit-bio->q2-greengenes2) (4.4.2)\n",
      "Requirement already satisfied: IPython>=3.2.0 in /opt/homebrew/Caskroom/miniconda/base/envs/qiime2-shotgun-2024.2/lib/python3.8/site-packages (from scikit-bio->q2-greengenes2) (8.12.2)\n",
      "Requirement already satisfied: matplotlib>=1.4.3 in /opt/homebrew/Caskroom/miniconda/base/envs/qiime2-shotgun-2024.2/lib/python3.8/site-packages (from scikit-bio->q2-greengenes2) (3.6.0)\n",
      "Requirement already satisfied: natsort>=4.0.3 in /opt/homebrew/Caskroom/miniconda/base/envs/qiime2-shotgun-2024.2/lib/python3.8/site-packages (from scikit-bio->q2-greengenes2) (8.4.0)\n",
      "Requirement already satisfied: hdmedians>=0.14.1 in /opt/homebrew/Caskroom/miniconda/base/envs/qiime2-shotgun-2024.2/lib/python3.8/site-packages (from scikit-bio->q2-greengenes2) (0.14.2)\n",
      "Requirement already satisfied: requests in /opt/homebrew/Caskroom/miniconda/base/envs/qiime2-shotgun-2024.2/lib/python3.8/site-packages (from redbiom->q2-greengenes2) (2.31.0)\n",
      "Collecting nltk (from redbiom->q2-greengenes2)\n",
      "  Downloading nltk-3.9.1-py3-none-any.whl.metadata (2.9 kB)\n",
      "Requirement already satisfied: joblib in /opt/homebrew/Caskroom/miniconda/base/envs/qiime2-shotgun-2024.2/lib/python3.8/site-packages (from redbiom->q2-greengenes2) (1.3.2)\n",
      "Requirement already satisfied: msgpack in /opt/homebrew/Caskroom/miniconda/base/envs/qiime2-shotgun-2024.2/lib/python3.8/site-packages (from redbiom->q2-greengenes2) (1.0.7)\n",
      "Requirement already satisfied: backcall in /opt/homebrew/Caskroom/miniconda/base/envs/qiime2-shotgun-2024.2/lib/python3.8/site-packages (from IPython>=3.2.0->scikit-bio->q2-greengenes2) (0.2.0)\n",
      "Requirement already satisfied: jedi>=0.16 in /opt/homebrew/Caskroom/miniconda/base/envs/qiime2-shotgun-2024.2/lib/python3.8/site-packages (from IPython>=3.2.0->scikit-bio->q2-greengenes2) (0.19.1)\n",
      "Requirement already satisfied: matplotlib-inline in /opt/homebrew/Caskroom/miniconda/base/envs/qiime2-shotgun-2024.2/lib/python3.8/site-packages (from IPython>=3.2.0->scikit-bio->q2-greengenes2) (0.1.6)\n",
      "Requirement already satisfied: pickleshare in /opt/homebrew/Caskroom/miniconda/base/envs/qiime2-shotgun-2024.2/lib/python3.8/site-packages (from IPython>=3.2.0->scikit-bio->q2-greengenes2) (0.7.5)\n",
      "Requirement already satisfied: prompt-toolkit!=3.0.37,<3.1.0,>=3.0.30 in /opt/homebrew/Caskroom/miniconda/base/envs/qiime2-shotgun-2024.2/lib/python3.8/site-packages (from IPython>=3.2.0->scikit-bio->q2-greengenes2) (3.0.42)\n",
      "Requirement already satisfied: pygments>=2.4.0 in /opt/homebrew/Caskroom/miniconda/base/envs/qiime2-shotgun-2024.2/lib/python3.8/site-packages (from IPython>=3.2.0->scikit-bio->q2-greengenes2) (2.17.2)\n",
      "Requirement already satisfied: stack-data in /opt/homebrew/Caskroom/miniconda/base/envs/qiime2-shotgun-2024.2/lib/python3.8/site-packages (from IPython>=3.2.0->scikit-bio->q2-greengenes2) (0.6.2)\n",
      "Requirement already satisfied: traitlets>=5 in /opt/homebrew/Caskroom/miniconda/base/envs/qiime2-shotgun-2024.2/lib/python3.8/site-packages (from IPython>=3.2.0->scikit-bio->q2-greengenes2) (5.9.0)\n",
      "Requirement already satisfied: typing-extensions in /opt/homebrew/Caskroom/miniconda/base/envs/qiime2-shotgun-2024.2/lib/python3.8/site-packages (from IPython>=3.2.0->scikit-bio->q2-greengenes2) (4.10.0)\n",
      "Requirement already satisfied: pexpect>4.3 in /opt/homebrew/Caskroom/miniconda/base/envs/qiime2-shotgun-2024.2/lib/python3.8/site-packages (from IPython>=3.2.0->scikit-bio->q2-greengenes2) (4.9.0)\n",
      "Requirement already satisfied: appnope in /opt/homebrew/Caskroom/miniconda/base/envs/qiime2-shotgun-2024.2/lib/python3.8/site-packages (from IPython>=3.2.0->scikit-bio->q2-greengenes2) (0.1.4)\n",
      "Requirement already satisfied: contourpy>=1.0.1 in /opt/homebrew/Caskroom/miniconda/base/envs/qiime2-shotgun-2024.2/lib/python3.8/site-packages (from matplotlib>=1.4.3->scikit-bio->q2-greengenes2) (1.1.1)\n",
      "Requirement already satisfied: cycler>=0.10 in /opt/homebrew/Caskroom/miniconda/base/envs/qiime2-shotgun-2024.2/lib/python3.8/site-packages (from matplotlib>=1.4.3->scikit-bio->q2-greengenes2) (0.12.1)\n",
      "Requirement already satisfied: fonttools>=4.22.0 in /opt/homebrew/Caskroom/miniconda/base/envs/qiime2-shotgun-2024.2/lib/python3.8/site-packages (from matplotlib>=1.4.3->scikit-bio->q2-greengenes2) (4.49.0)\n",
      "Requirement already satisfied: kiwisolver>=1.0.1 in /opt/homebrew/Caskroom/miniconda/base/envs/qiime2-shotgun-2024.2/lib/python3.8/site-packages (from matplotlib>=1.4.3->scikit-bio->q2-greengenes2) (1.4.5)\n",
      "Requirement already satisfied: packaging>=20.0 in /opt/homebrew/Caskroom/miniconda/base/envs/qiime2-shotgun-2024.2/lib/python3.8/site-packages (from matplotlib>=1.4.3->scikit-bio->q2-greengenes2) (23.2)\n",
      "Requirement already satisfied: pillow>=6.2.0 in /opt/homebrew/Caskroom/miniconda/base/envs/qiime2-shotgun-2024.2/lib/python3.8/site-packages (from matplotlib>=1.4.3->scikit-bio->q2-greengenes2) (9.2.0)\n",
      "Requirement already satisfied: pyparsing>=2.2.1 in /opt/homebrew/Caskroom/miniconda/base/envs/qiime2-shotgun-2024.2/lib/python3.8/site-packages (from matplotlib>=1.4.3->scikit-bio->q2-greengenes2) (3.1.1)\n",
      "Requirement already satisfied: python-dateutil>=2.7 in /opt/homebrew/Caskroom/miniconda/base/envs/qiime2-shotgun-2024.2/lib/python3.8/site-packages (from matplotlib>=1.4.3->scikit-bio->q2-greengenes2) (2.8.2)\n",
      "Requirement already satisfied: pytz>=2020.1 in /opt/homebrew/Caskroom/miniconda/base/envs/qiime2-shotgun-2024.2/lib/python3.8/site-packages (from pandas>=0.20.0->biom-format->q2-greengenes2) (2024.1)\n",
      "Requirement already satisfied: charset-normalizer<4,>=2 in /opt/homebrew/Caskroom/miniconda/base/envs/qiime2-shotgun-2024.2/lib/python3.8/site-packages (from requests->redbiom->q2-greengenes2) (3.3.2)\n",
      "Requirement already satisfied: idna<4,>=2.5 in /opt/homebrew/Caskroom/miniconda/base/envs/qiime2-shotgun-2024.2/lib/python3.8/site-packages (from requests->redbiom->q2-greengenes2) (3.6)\n",
      "Requirement already satisfied: urllib3<3,>=1.21.1 in /opt/homebrew/Caskroom/miniconda/base/envs/qiime2-shotgun-2024.2/lib/python3.8/site-packages (from requests->redbiom->q2-greengenes2) (1.26.18)\n",
      "Requirement already satisfied: certifi>=2017.4.17 in /opt/homebrew/Caskroom/miniconda/base/envs/qiime2-shotgun-2024.2/lib/python3.8/site-packages (from requests->redbiom->q2-greengenes2) (2024.8.30)\n",
      "Collecting regex>=2021.8.3 (from nltk->redbiom->q2-greengenes2)\n",
      "  Downloading regex-2024.11.6-cp38-cp38-macosx_10_9_x86_64.whl.metadata (40 kB)\n",
      "\u001b[2K     \u001b[90m━━━━━━━━━━━━━━━━━━━━━━━━━━━━━━━━━━━━━━━━\u001b[0m \u001b[32m40.5/40.5 kB\u001b[0m \u001b[31m2.7 MB/s\u001b[0m eta \u001b[36m0:00:00\u001b[0m\n",
      "\u001b[?25hRequirement already satisfied: tqdm in /opt/homebrew/Caskroom/miniconda/base/envs/qiime2-shotgun-2024.2/lib/python3.8/site-packages (from nltk->redbiom->q2-greengenes2) (4.66.2)\n",
      "Requirement already satisfied: parso<0.9.0,>=0.8.3 in /opt/homebrew/Caskroom/miniconda/base/envs/qiime2-shotgun-2024.2/lib/python3.8/site-packages (from jedi>=0.16->IPython>=3.2.0->scikit-bio->q2-greengenes2) (0.8.3)\n",
      "Requirement already satisfied: ptyprocess>=0.5 in /opt/homebrew/Caskroom/miniconda/base/envs/qiime2-shotgun-2024.2/lib/python3.8/site-packages (from pexpect>4.3->IPython>=3.2.0->scikit-bio->q2-greengenes2) (0.7.0)\n",
      "Requirement already satisfied: wcwidth in /opt/homebrew/Caskroom/miniconda/base/envs/qiime2-shotgun-2024.2/lib/python3.8/site-packages (from prompt-toolkit!=3.0.37,<3.1.0,>=3.0.30->IPython>=3.2.0->scikit-bio->q2-greengenes2) (0.2.13)\n",
      "Requirement already satisfied: six>=1.5 in /opt/homebrew/Caskroom/miniconda/base/envs/qiime2-shotgun-2024.2/lib/python3.8/site-packages (from python-dateutil>=2.7->matplotlib>=1.4.3->scikit-bio->q2-greengenes2) (1.16.0)\n",
      "Requirement already satisfied: executing>=1.2.0 in /opt/homebrew/Caskroom/miniconda/base/envs/qiime2-shotgun-2024.2/lib/python3.8/site-packages (from stack-data->IPython>=3.2.0->scikit-bio->q2-greengenes2) (2.0.1)\n",
      "Requirement already satisfied: asttokens>=2.1.0 in /opt/homebrew/Caskroom/miniconda/base/envs/qiime2-shotgun-2024.2/lib/python3.8/site-packages (from stack-data->IPython>=3.2.0->scikit-bio->q2-greengenes2) (2.4.1)\n",
      "Requirement already satisfied: pure-eval in /opt/homebrew/Caskroom/miniconda/base/envs/qiime2-shotgun-2024.2/lib/python3.8/site-packages (from stack-data->IPython>=3.2.0->scikit-bio->q2-greengenes2) (0.2.2)\n",
      "Downloading nltk-3.9.1-py3-none-any.whl (1.5 MB)\n",
      "\u001b[2K   \u001b[90m━━━━━━━━━━━━━━━━━━━━━━━━━━━━━━━━━━━━━━━━\u001b[0m \u001b[32m1.5/1.5 MB\u001b[0m \u001b[31m31.8 MB/s\u001b[0m eta \u001b[36m0:00:00\u001b[0m00:01\u001b[0m\n",
      "\u001b[?25hDownloading regex-2024.11.6-cp38-cp38-macosx_10_9_x86_64.whl (287 kB)\n",
      "\u001b[2K   \u001b[90m━━━━━━━━━━━━━━━━━━━━━━━━━━━━━━━━━━━━━━━━\u001b[0m \u001b[32m287.8/287.8 kB\u001b[0m \u001b[31m23.6 MB/s\u001b[0m eta \u001b[36m0:00:00\u001b[0m\n",
      "\u001b[?25hBuilding wheels for collected packages: q2-greengenes2, redbiom\n",
      "  Building wheel for q2-greengenes2 (setup.py) ... \u001b[?25ldone\n",
      "\u001b[?25h  Created wheel for q2-greengenes2: filename=q2_greengenes2-2024.1-py3-none-any.whl size=20593 sha256=bfb5497e29e3a6ffc4ccfd3da164d7da207079c9cc4c2bcd23c8174ab3b31af9\n",
      "  Stored in directory: /Users/leojo/Library/Caches/pip/wheels/a3/99/9e/bc7588ae8946cd3dc33405fe53d8699ae03c261c9a4f994054\n",
      "  Building wheel for redbiom (setup.py) ... \u001b[?25ldone\n",
      "\u001b[?25h  Created wheel for redbiom: filename=redbiom-0.3.9-py3-none-any.whl size=406128 sha256=d62a9699afc9fa2e07880efcf104ed0c8ccaf52b4e25a436e78fb4a36f53c088\n",
      "  Stored in directory: /Users/leojo/Library/Caches/pip/wheels/f0/5a/f3/78598a57db63fc6e991ea63b230c2f2ebf1fbb258555fdf50d\n",
      "Successfully built q2-greengenes2 redbiom\n",
      "Installing collected packages: regex, nltk, redbiom, q2-greengenes2\n",
      "Successfully installed nltk-3.9.1 q2-greengenes2-2024.1 redbiom-0.3.9 regex-2024.11.6\n"
     ]
    }
   ],
   "source": [
    "!pip install q2-greengenes2"
   ]
  },
  {
   "cell_type": "code",
   "execution_count": 53,
   "id": "2969c01c",
   "metadata": {},
   "outputs": [
    {
     "name": "stdout",
     "output_type": "stream",
     "text": [
      "\u001b[32mSaved FeatureTable[Frequency] to: data/wolr2/gg2/zebra30/196551_zebra_2024_9.qza\u001b[0m\n",
      "\u001b[0m"
     ]
    }
   ],
   "source": [
    "\n",
    "!qiime greengenes2 filter-features \\\n",
    "     --i-feature-table data/wolr2/zebra30/196551_zebra_2024_9.qza \\\n",
    "     --i-reference ref/gg2/2024.09.taxonomy.asv.nwk.qza \\\n",
    "     --o-filtered-feature-table data/wolr2/gg2/zebra30/196551_zebra_2024_9.qza"
   ]
  },
  {
   "cell_type": "code",
   "execution_count": 55,
   "id": "3f137a2e",
   "metadata": {},
   "outputs": [
    {
     "name": "stdout",
     "output_type": "stream",
     "text": [
      "\u001b[32mSaved FeatureData[Taxonomy] to: data/wolr2/gg2/zebra30/196551_zebra_2024_9.taxonomy.qza\u001b[0m\n",
      "\u001b[0m"
     ]
    }
   ],
   "source": [
    "!qiime greengenes2 taxonomy-from-table \\\n",
    "     --i-reference-taxonomy ref/gg2/2024.09.taxonomy.asv.nwk.qza \\\n",
    "     --i-table data/wolr2/gg2/zebra30/196551_zebra_2024_9.qza \\\n",
    "     --o-classification data/wolr2/gg2/zebra30/196551_zebra_2024_9.taxonomy.qza"
   ]
  },
  {
   "cell_type": "markdown",
   "id": "dac770b5",
   "metadata": {},
   "source": [
    "# Rerun Core Diversity Metrics (GG2)"
   ]
  },
  {
   "cell_type": "code",
   "execution_count": 57,
   "id": "4d4bfef0",
   "metadata": {},
   "outputs": [],
   "source": [
    "table = Artifact.load(\"data/wolr2/gg2/zebra30/196551_zebra_2024_9.qza\")\n",
    "phylogeny = Artifact.import_data(\"Phylogeny[Rooted]\", \"ref/gg2/2024.09.phylogeny.asv.nwk\")\n",
    "sampling_depth = 500000\n",
    "metadata = Metadata.load(\"qiita/15350_20240110-175840.txt\")"
   ]
  },
  {
   "cell_type": "markdown",
   "id": "8ada7de1",
   "metadata": {},
   "source": [
    "### Compute metrics"
   ]
  },
  {
   "cell_type": "code",
   "execution_count": 58,
   "id": "6f12aab3",
   "metadata": {},
   "outputs": [
    {
     "name": "stderr",
     "output_type": "stream",
     "text": [
      "/opt/homebrew/Caskroom/miniconda/base/envs/qiime2-shotgun-2024.2/lib/python3.8/site-packages/skbio/stats/ordination/_principal_coordinate_analysis.py:143: RuntimeWarning: The result contains negative eigenvalues. Please compare their magnitude with the magnitude of some of the largest positive eigenvalues. If the negative ones are smaller, it's probably safe to ignore them, but if they are large in magnitude, the results won't be useful. See the Notes section for more details. The smallest eigenvalue is -0.01595527979824624 and the largest is 0.3394271969297482.\n",
      "  warn(\n",
      "/opt/homebrew/Caskroom/miniconda/base/envs/qiime2-shotgun-2024.2/lib/python3.8/site-packages/skbio/stats/ordination/_principal_coordinate_analysis.py:143: RuntimeWarning: The result contains negative eigenvalues. Please compare their magnitude with the magnitude of some of the largest positive eigenvalues. If the negative ones are smaller, it's probably safe to ignore them, but if they are large in magnitude, the results won't be useful. See the Notes section for more details. The smallest eigenvalue is -0.15146921148802053 and the largest is 3.871244753390983.\n",
      "  warn(\n"
     ]
    },
    {
     "name": "stdout",
     "output_type": "stream",
     "text": [
      "Running external command line application. This may print messages to stdout and/or stderr.\n",
      "The command being run is below. This command cannot be manually re-run as it will depend on temporary files that no longer exist.\n",
      "\n",
      "Command:\n",
      "\n",
      "faithpd -i /var/folders/tx/vgccmrkj1fz1zv99j496_3k80000gn/T/qiime2/leojo/data/67aa2b53-3f00-4194-b489-128cac778f69/data/feature-table.biom -t /var/folders/tx/vgccmrkj1fz1zv99j496_3k80000gn/T/qiime2/leojo/data/222b9870-fb65-4e1f-9f16-5b9b43c1523c/data/tree.nwk -o /var/folders/tx/vgccmrkj1fz1zv99j496_3k80000gn/T/q2-AlphaDiversityFormat-d_ujo9xx\n",
      "\n",
      "Running external command line application. This may print messages to stdout and/or stderr.\n",
      "The command being run is below. This command cannot be manually re-run as it will depend on temporary files that no longer exist.\n",
      "\n",
      "Command:\n",
      "\n",
      "ssu -i /var/folders/tx/vgccmrkj1fz1zv99j496_3k80000gn/T/qiime2/leojo/data/67aa2b53-3f00-4194-b489-128cac778f69/data/feature-table.biom -t /var/folders/tx/vgccmrkj1fz1zv99j496_3k80000gn/T/qiime2/leojo/data/222b9870-fb65-4e1f-9f16-5b9b43c1523c/data/tree.nwk -m unweighted -o /var/folders/tx/vgccmrkj1fz1zv99j496_3k80000gn/T/q2-LSMatFormat-kf9i8dy2\n",
      "\n",
      "Running external command line application. This may print messages to stdout and/or stderr.\n",
      "The command being run is below. This command cannot be manually re-run as it will depend on temporary files that no longer exist.\n",
      "\n",
      "Command:\n",
      "\n",
      "ssu -i /var/folders/tx/vgccmrkj1fz1zv99j496_3k80000gn/T/qiime2/leojo/data/67aa2b53-3f00-4194-b489-128cac778f69/data/feature-table.biom -t /var/folders/tx/vgccmrkj1fz1zv99j496_3k80000gn/T/qiime2/leojo/data/222b9870-fb65-4e1f-9f16-5b9b43c1523c/data/tree.nwk -m weighted_unnormalized -o /var/folders/tx/vgccmrkj1fz1zv99j496_3k80000gn/T/q2-LSMatFormat-6vjx_wi3\n",
      "\n"
     ]
    },
    {
     "name": "stderr",
     "output_type": "stream",
     "text": [
      "/opt/homebrew/Caskroom/miniconda/base/envs/qiime2-shotgun-2024.2/lib/python3.8/site-packages/skbio/stats/ordination/_principal_coordinate_analysis.py:143: RuntimeWarning: The result contains negative eigenvalues. Please compare their magnitude with the magnitude of some of the largest positive eigenvalues. If the negative ones are smaller, it's probably safe to ignore them, but if they are large in magnitude, the results won't be useful. See the Notes section for more details. The smallest eigenvalue is -0.013864260159230852 and the largest is 0.17282026695835864.\n",
      "  warn(\n",
      "/opt/homebrew/Caskroom/miniconda/base/envs/qiime2-shotgun-2024.2/lib/python3.8/site-packages/skbio/stats/ordination/_principal_coordinate_analysis.py:143: RuntimeWarning: The result contains negative eigenvalues. Please compare their magnitude with the magnitude of some of the largest positive eigenvalues. If the negative ones are smaller, it's probably safe to ignore them, but if they are large in magnitude, the results won't be useful. See the Notes section for more details. The smallest eigenvalue is -29604.087327904257 and the largest is 1088063.0485930624.\n",
      "  warn(\n"
     ]
    }
   ],
   "source": [
    "action_results = diversity_actions.core_metrics_phylogenetic(\n",
    "    phylogeny=phylogeny,\n",
    "    table=table,\n",
    "    sampling_depth=sampling_depth,\n",
    "    metadata=metadata,\n",
    ")\n",
    "\n",
    "rarefied_table = action_results.rarefied_table\n",
    "faith_pd_vector = action_results.faith_pd_vector\n",
    "observed_features_vector = action_results.observed_features_vector\n",
    "shannon_vector = action_results.shannon_vector\n",
    "evenness_vector = action_results.evenness_vector\n",
    "unweighted_unifrac_distance_matrix = action_results.unweighted_unifrac_distance_matrix\n",
    "weighted_unifrac_distance_matrix = action_results.weighted_unifrac_distance_matrix\n",
    "jaccard_distance_matrix = action_results.jaccard_distance_matrix\n",
    "bray_curtis_distance_matrix = action_results.bray_curtis_distance_matrix\n",
    "unweighted_unifrac_pcoa_results = action_results.unweighted_unifrac_pcoa_results\n",
    "weighted_unifrac_pcoa_results = action_results.weighted_unifrac_pcoa_results\n",
    "jaccard_pcoa_results = action_results.jaccard_pcoa_results\n",
    "bray_curtis_pcoa_results = action_results.bray_curtis_pcoa_results\n",
    "unweighted_unifrac_emperor_viz = action_results.unweighted_unifrac_emperor\n",
    "weighted_unifrac_emperor_viz = action_results.weighted_unifrac_emperor\n",
    "jaccard_emperor_viz = action_results.jaccard_emperor\n",
    "bray_curtis_emperor_viz = action_results.bray_curtis_emperor"
   ]
  },
  {
   "cell_type": "code",
   "execution_count": 59,
   "id": "e3b5e13e",
   "metadata": {},
   "outputs": [],
   "source": [
    "faith_pd_group_significance_viz, = diversity_actions.alpha_group_significance(\n",
    "    alpha_diversity=faith_pd_vector,\n",
    "    metadata=metadata,\n",
    ")\n",
    "evenness_group_significance_viz, = diversity_actions.alpha_group_significance(\n",
    "    alpha_diversity=evenness_vector,\n",
    "    metadata=metadata,\n",
    ")"
   ]
  },
  {
   "cell_type": "markdown",
   "id": "730c33aa",
   "metadata": {},
   "source": [
    "### Save Q2 artifacts"
   ]
  },
  {
   "cell_type": "code",
   "execution_count": 61,
   "id": "55f99d11",
   "metadata": {},
   "outputs": [
    {
     "data": {
      "text/plain": [
       "'out/rarefaction_500000/gg2/bray_curtis_emperor.qzv'"
      ]
     },
     "execution_count": 61,
     "metadata": {},
     "output_type": "execute_result"
    }
   ],
   "source": [
    "if not os.path.exists(f'out/rarefaction_{sampling_depth}/gg2'):\n",
    "    os.makedirs(f'out/rarefaction_{sampling_depth}/gg2')\n",
    "\n",
    "rarefied_table.save(f'out/rarefaction_{sampling_depth}/gg2/rarefied_table.qza')\n",
    "faith_pd_vector.save(f'out/rarefaction_{sampling_depth}/gg2/faith_pd_vector.qza')\n",
    "observed_features_vector.save(f'out/rarefaction_{sampling_depth}/gg2/observed_features_vector.qza')\n",
    "shannon_vector.save(f'out/rarefaction_{sampling_depth}/gg2/shannon_vector.qza')\n",
    "evenness_vector.save(f'out/rarefaction_{sampling_depth}/gg2/evenness_vector.qza')\n",
    "unweighted_unifrac_distance_matrix.save(f'out/rarefaction_{sampling_depth}/gg2/unweighted_unifrac_distance_matrix.qza')\n",
    "weighted_unifrac_distance_matrix.save(f'out/rarefaction_{sampling_depth}/gg2/weighted_unifrac_distance_matrix.qza')\n",
    "jaccard_distance_matrix.save(f'out/rarefaction_{sampling_depth}/gg2/jaccard_distance_matrix.qza')\n",
    "bray_curtis_distance_matrix.save(f'out/rarefaction_{sampling_depth}/gg2/bray_curtis_distance_matrix.qza')\n",
    "unweighted_unifrac_pcoa_results.save(f'out/rarefaction_{sampling_depth}/gg2/unweighted_unifrac_pcoa_results.qza')\n",
    "weighted_unifrac_pcoa_results.save(f'out/rarefaction_{sampling_depth}/gg2/weighted_unifrac_pcoa_results.qza')\n",
    "jaccard_pcoa_results.save(f'out/rarefaction_{sampling_depth}/gg2/jaccard_pcoa_results.qza')\n",
    "bray_curtis_pcoa_results.save(f'out/rarefaction_{sampling_depth}/gg2/bray_curtis_pcoa_results.qza')\n",
    "unweighted_unifrac_emperor_viz.save(f'out/rarefaction_{sampling_depth}/gg2/unweighted_unifrac_emperor.qzv')\n",
    "weighted_unifrac_emperor_viz.save(f'out/rarefaction_{sampling_depth}/gg2/weighted_unifrac_emperor.qzv')\n",
    "jaccard_emperor_viz.save(f'out/rarefaction_{sampling_depth}/gg2/jaccard_emperor.qzv')\n",
    "bray_curtis_emperor_viz.save(f'out/rarefaction_{sampling_depth}/gg2/bray_curtis_emperor.qzv')"
   ]
  },
  {
   "cell_type": "code",
   "execution_count": 62,
   "id": "a8daeced",
   "metadata": {},
   "outputs": [
    {
     "data": {
      "text/plain": [
       "'out/rarefaction_500000/gg2/evenness_group_significance.qzv'"
      ]
     },
     "execution_count": 62,
     "metadata": {},
     "output_type": "execute_result"
    }
   ],
   "source": [
    "faith_pd_group_significance_viz.save(f'out/rarefaction_{sampling_depth}/gg2/faith_pd_group_significance.qzv')\n",
    "evenness_group_significance_viz.save(f'out/rarefaction_{sampling_depth}/gg2/evenness_group_significance.qzv')"
   ]
  },
  {
   "cell_type": "markdown",
   "id": "9f34cdda",
   "metadata": {},
   "source": [
    "### Exploring Beta-Diversity"
   ]
  },
  {
   "cell_type": "code",
   "execution_count": 102,
   "id": "22718f93",
   "metadata": {},
   "outputs": [
    {
     "name": "stdout",
     "output_type": "stream",
     "text": [
      "Samples in distance matrix: 83\n",
      "Samples in metadata: 83\n",
      "Common samples: 83\n",
      "Samples only in distance matrix (likely controls): 0\n",
      "\n",
      "======================================================================\n",
      "ADONIS/PERMANOVA: Unweighted UniFrac Distance\n",
      "======================================================================\n",
      "Formula: distance ~ host_age + household_income_code + ethnicity\n",
      "\n",
      "Running external command line application. This may print messages to stdout and/or stderr.\n",
      "The command being run is below. This command cannot be manually re-run as it will depend on temporary files that no longer exist.\n",
      "\n",
      "Command: run_adonis.R /var/folders/tx/vgccmrkj1fz1zv99j496_3k80000gn/T/tmpi387geq4/dm.tsv /var/folders/tx/vgccmrkj1fz1zv99j496_3k80000gn/T/tmpi387geq4/md.tsv host_age + household_income_code + ethnicity 999 1 /var/folders/tx/vgccmrkj1fz1zv99j496_3k80000gn/T/qiime2-temp-ux3t1gof/adonis.tsv\n",
      "\n",
      "R version 4.2.2 (2022-10-31) \n"
     ]
    },
    {
     "name": "stderr",
     "output_type": "stream",
     "text": [
      "Loading required package: permute\n",
      "Loading required package: lattice\n",
      "This is vegan 2.6-4\n",
      "'adonis' will be deprecated: use 'adonis2' instead\n"
     ]
    },
    {
     "name": "stdout",
     "output_type": "stream",
     "text": [
      "Results saved to: out/adonis_unweighted_unifrac.qzv\n",
      "======================================================================\n",
      "ADONIS/PERMANOVA: Weighted UniFrac Distance\n",
      "======================================================================\n",
      "Formula: distance ~ host_age + household_income_code + ethnicity\n",
      "\n",
      "Running external command line application. This may print messages to stdout and/or stderr.\n",
      "The command being run is below. This command cannot be manually re-run as it will depend on temporary files that no longer exist.\n",
      "\n",
      "Command: run_adonis.R /var/folders/tx/vgccmrkj1fz1zv99j496_3k80000gn/T/tmpslht1sxg/dm.tsv /var/folders/tx/vgccmrkj1fz1zv99j496_3k80000gn/T/tmpslht1sxg/md.tsv host_age + household_income_code + ethnicity 999 1 /var/folders/tx/vgccmrkj1fz1zv99j496_3k80000gn/T/qiime2-temp-y96ebzvf/adonis.tsv\n",
      "\n",
      "R version 4.2.2 (2022-10-31) \n"
     ]
    },
    {
     "name": "stderr",
     "output_type": "stream",
     "text": [
      "Loading required package: permute\n",
      "Loading required package: lattice\n",
      "This is vegan 2.6-4\n",
      "'adonis' will be deprecated: use 'adonis2' instead\n"
     ]
    },
    {
     "name": "stdout",
     "output_type": "stream",
     "text": [
      "Results saved to: out/adonis_weighted_unifrac.qzv\n",
      "======================================================================\n",
      "Summary Statistics\n",
      "======================================================================\n",
      "Number of samples analyzed: 83\n",
      "\n",
      "Age: mean ± SD = 25.7 ± 5.4\n",
      "Age range: 14.0 - 35.0\n",
      "\n",
      "Income distribution:\n",
      "MID     40\n",
      "LOW     17\n",
      "HIGH    13\n",
      "NA      13\n",
      "Name: household_income_code, dtype: int64\n",
      "\n",
      "Ethnicity distribution:\n",
      "Hispanic or Latino        39\n",
      "Non-Hispanic              25\n",
      "Not Hispanic or Latino    16\n",
      "Unknown                    3\n",
      "Name: ethnicity, dtype: int64\n"
     ]
    }
   ],
   "source": [
    "import pandas as pd\n",
    "import qiime2\n",
    "from qiime2 import Metadata\n",
    "from qiime2.plugins import diversity\n",
    "import skbio\n",
    "\n",
    "sampling_depth = 500000\n",
    "\n",
    "unweighted_artifact = qiime2.Artifact.load(\n",
    "    f'out/rarefaction_{sampling_depth}/gg2/unweighted_unifrac_distance_matrix.qza'\n",
    ")\n",
    "weighted_artifact = qiime2.Artifact.load(\n",
    "    f'out/rarefaction_{sampling_depth}/gg2/weighted_unifrac_distance_matrix.qza'\n",
    ")\n",
    "\n",
    "# Extract distance matrices as skbio objects\n",
    "unweighted_dm = unweighted_artifact.view(skbio.DistanceMatrix)\n",
    "weighted_dm = weighted_artifact.view(skbio.DistanceMatrix)\n",
    "\n",
    "# Load metadata\n",
    "metadata = Metadata.load('data/metadata/15350_20240110-175840_noblanks.txt')\n",
    "metadata_df = metadata.to_dataframe()\n",
    "\n",
    "# Keep only relevant columns\n",
    "metadata_df_subset = metadata_df[['host_age', 'household_income_code', 'ethnicity']].copy()\n",
    "\n",
    "dm_samples = set(unweighted_dm.ids)\n",
    "metadata_samples = set(metadata_df_subset.index)\n",
    "common_samples = list(dm_samples.intersection(metadata_samples))\n",
    "\n",
    "# Filter distance matrices and metadata to common samples\n",
    "unweighted_dm_filtered = unweighted_dm.filter(common_samples)\n",
    "weighted_dm_filtered = weighted_dm.filter(common_samples)\n",
    "metadata_df_filtered = metadata_df_subset.loc[common_samples]\n",
    "\n",
    "# Create filtered QIIME2 artifacts\n",
    "unweighted_artifact_filtered = qiime2.Artifact.import_data(\n",
    "    'DistanceMatrix',\n",
    "    unweighted_dm_filtered\n",
    ")\n",
    "weighted_artifact_filtered = qiime2.Artifact.import_data(\n",
    "    'DistanceMatrix',\n",
    "    weighted_dm_filtered\n",
    ")\n",
    "\n",
    "# Convert to QIIME2 Metadata object\n",
    "metadata_filtered = qiime2.Metadata(metadata_df_filtered)\n",
    "\n",
    "# Run PERMANOVA (ADONIS) on unweighted UniFrac\n",
    "print(\"ADONIS/PERMANOVA: Unweighted UniFrac Distance\\n\")\n",
    "print(\"Formula: distance ~ host_age + household_income_code + ethnicity\\n\")\n",
    "\n",
    "unweighted_results = diversity.actions.adonis(\n",
    "    distance_matrix=unweighted_artifact_filtered,\n",
    "    metadata=metadata_filtered,\n",
    "    formula='host_age + household_income_code + ethnicity',\n",
    "    permutations=999,\n",
    "    n_jobs=1\n",
    ")\n",
    "\n",
    "# Save and display results\n",
    "unweighted_results.visualization.save('out/adonis_unweighted_unifrac.qzv')\n",
    "print(\"Results saved to: out/adonis_unweighted_unifrac.qzv\")\n",
    "\n",
    "\n",
    "# Run PERMANOVA (ADONIS) on weighted UniFrac\n",
    "print(\"ADONIS/PERMANOVA: Weighted UniFrac Distance\\n\")\n",
    "print(\"Formula: distance ~ host_age + household_income_code + ethnicity\\n\")\n",
    "\n",
    "weighted_results = diversity.actions.adonis(\n",
    "    distance_matrix=weighted_artifact_filtered,\n",
    "    metadata=metadata_filtered,\n",
    "    formula='host_age + household_income_code + ethnicity',\n",
    "    permutations=999,\n",
    "    n_jobs=1\n",
    ")\n",
    "\n",
    "# Save and display results\n",
    "weighted_results.visualization.save('out/adonis_weighted_unifrac.qzv')\n",
    "print(\"Results saved to: out/adonis_weighted_unifrac.qzv\")\n",
    "\n",
    "\n",
    "# Print summary statistics\n",
    "print(\"Summary Statistics\\n\")\n",
    "print(f\"Number of samples analyzed: {len(metadata_df_filtered)}\")\n",
    "print(f\"\\nAge: mean ± SD = {metadata_df_filtered['host_age'].mean():.1f} ± {metadata_df_filtered['host_age'].std():.1f}\")\n",
    "print(f\"Age range: {metadata_df_filtered['host_age'].min()} - {metadata_df_filtered['host_age'].max()}\")\n",
    "print(f\"\\nIncome distribution:\")\n",
    "print(metadata_df_filtered['household_income_code'].value_counts())\n",
    "print(f\"\\nEthnicity distribution:\")\n",
    "print(metadata_df_filtered['ethnicity'].value_counts())\n"
   ]
  },
  {
   "cell_type": "markdown",
   "id": "32aaba2d",
   "metadata": {},
   "source": [
    "## TP vs. TD"
   ]
  },
  {
   "cell_type": "code",
   "execution_count": 103,
   "id": "50ff3da9",
   "metadata": {},
   "outputs": [
    {
     "data": {
      "text/html": [
       "<div>\n",
       "<style scoped>\n",
       "    .dataframe tbody tr th:only-of-type {\n",
       "        vertical-align: middle;\n",
       "    }\n",
       "\n",
       "    .dataframe tbody tr th {\n",
       "        vertical-align: top;\n",
       "    }\n",
       "\n",
       "    .dataframe thead th {\n",
       "        text-align: right;\n",
       "    }\n",
       "</style>\n",
       "<table border=\"1\" class=\"dataframe\">\n",
       "  <thead>\n",
       "    <tr style=\"text-align: right;\">\n",
       "      <th></th>\n",
       "      <th>ados_cosotot</th>\n",
       "      <th>ados_cosototrrtot</th>\n",
       "      <th>ados_rrtot</th>\n",
       "      <th>ageatfecalsample</th>\n",
       "      <th>anonymized_name</th>\n",
       "      <th>antibiotics_last_2weeks</th>\n",
       "      <th>attend_daycare</th>\n",
       "      <th>breastfed_morethan1month</th>\n",
       "      <th>collection_date</th>\n",
       "      <th>collection_timestamp</th>\n",
       "      <th>...</th>\n",
       "      <th>sex</th>\n",
       "      <th>taxon_id</th>\n",
       "      <th>title</th>\n",
       "      <th>tube_id</th>\n",
       "      <th>vine_adapbehav_domstd</th>\n",
       "      <th>vine_comtotal_domstd</th>\n",
       "      <th>vine_dlytotal_domstd</th>\n",
       "      <th>vine_mtrtotal_domstd</th>\n",
       "      <th>vine_soctotal_domstd</th>\n",
       "      <th>zipcode</th>\n",
       "    </tr>\n",
       "    <tr>\n",
       "      <th>sample_name</th>\n",
       "      <th></th>\n",
       "      <th></th>\n",
       "      <th></th>\n",
       "      <th></th>\n",
       "      <th></th>\n",
       "      <th></th>\n",
       "      <th></th>\n",
       "      <th></th>\n",
       "      <th></th>\n",
       "      <th></th>\n",
       "      <th></th>\n",
       "      <th></th>\n",
       "      <th></th>\n",
       "      <th></th>\n",
       "      <th></th>\n",
       "      <th></th>\n",
       "      <th></th>\n",
       "      <th></th>\n",
       "      <th></th>\n",
       "      <th></th>\n",
       "      <th></th>\n",
       "    </tr>\n",
       "  </thead>\n",
       "  <tbody>\n",
       "    <tr>\n",
       "      <th>15350.A5U7C.2</th>\n",
       "      <td>8.0</td>\n",
       "      <td>14.0</td>\n",
       "      <td>6.0</td>\n",
       "      <td>35.0</td>\n",
       "      <td>X00235506</td>\n",
       "      <td>0.0</td>\n",
       "      <td>0</td>\n",
       "      <td>1.0</td>\n",
       "      <td>2023-02-08</td>\n",
       "      <td>2023-02-08</td>\n",
       "      <td>...</td>\n",
       "      <td>male</td>\n",
       "      <td>408170.0</td>\n",
       "      <td>Pierce ASD project</td>\n",
       "      <td>363146269.0</td>\n",
       "      <td>82.0</td>\n",
       "      <td>74.0</td>\n",
       "      <td>78.0</td>\n",
       "      <td>100.0</td>\n",
       "      <td>103.0</td>\n",
       "      <td>92026</td>\n",
       "    </tr>\n",
       "    <tr>\n",
       "      <th>15350.A6N5R.1</th>\n",
       "      <td>12.0</td>\n",
       "      <td>18.0</td>\n",
       "      <td>6.0</td>\n",
       "      <td>16.0</td>\n",
       "      <td>X00235660</td>\n",
       "      <td>0.0</td>\n",
       "      <td>0</td>\n",
       "      <td>1.0</td>\n",
       "      <td>2022-06-28</td>\n",
       "      <td>2022-06-28</td>\n",
       "      <td>...</td>\n",
       "      <td>male</td>\n",
       "      <td>408170.0</td>\n",
       "      <td>Pierce ASD project</td>\n",
       "      <td>363146304.0</td>\n",
       "      <td>95.0</td>\n",
       "      <td>96.0</td>\n",
       "      <td>95.0</td>\n",
       "      <td>102.0</td>\n",
       "      <td>99.0</td>\n",
       "      <td>92154</td>\n",
       "    </tr>\n",
       "    <tr>\n",
       "      <th>15350.A6T5B.1</th>\n",
       "      <td>1.0</td>\n",
       "      <td>2.0</td>\n",
       "      <td>1.0</td>\n",
       "      <td>14.0</td>\n",
       "      <td>X00235600</td>\n",
       "      <td>0.0</td>\n",
       "      <td>1</td>\n",
       "      <td>1.0</td>\n",
       "      <td>2022-04-18</td>\n",
       "      <td>2022-04-18</td>\n",
       "      <td>...</td>\n",
       "      <td>male</td>\n",
       "      <td>408170.0</td>\n",
       "      <td>Pierce ASD project</td>\n",
       "      <td>363146249.0</td>\n",
       "      <td>98.0</td>\n",
       "      <td>94.0</td>\n",
       "      <td>100.0</td>\n",
       "      <td>114.0</td>\n",
       "      <td>101.0</td>\n",
       "      <td>92102</td>\n",
       "    </tr>\n",
       "    <tr>\n",
       "      <th>15350.A7B7Z.1</th>\n",
       "      <td>20.0</td>\n",
       "      <td>27.0</td>\n",
       "      <td>7.0</td>\n",
       "      <td>24.0</td>\n",
       "      <td>X00235539</td>\n",
       "      <td>1.0</td>\n",
       "      <td>0</td>\n",
       "      <td>1.0</td>\n",
       "      <td>2022-06-21</td>\n",
       "      <td>2022-06-21</td>\n",
       "      <td>...</td>\n",
       "      <td>male</td>\n",
       "      <td>408170.0</td>\n",
       "      <td>Pierce ASD project</td>\n",
       "      <td>363146321.0</td>\n",
       "      <td>64.0</td>\n",
       "      <td>54.0</td>\n",
       "      <td>69.0</td>\n",
       "      <td>69.0</td>\n",
       "      <td>65.0</td>\n",
       "      <td>91950</td>\n",
       "    </tr>\n",
       "    <tr>\n",
       "      <th>15350.A7L6P.1</th>\n",
       "      <td>20.0</td>\n",
       "      <td>28.0</td>\n",
       "      <td>8.0</td>\n",
       "      <td>27.0</td>\n",
       "      <td>X00235658</td>\n",
       "      <td>0.0</td>\n",
       "      <td>0</td>\n",
       "      <td>1.0</td>\n",
       "      <td>2022-06-21</td>\n",
       "      <td>2022-06-21</td>\n",
       "      <td>...</td>\n",
       "      <td>male</td>\n",
       "      <td>408170.0</td>\n",
       "      <td>Pierce ASD project</td>\n",
       "      <td>363146256.0</td>\n",
       "      <td>74.0</td>\n",
       "      <td>60.0</td>\n",
       "      <td>92.0</td>\n",
       "      <td>89.0</td>\n",
       "      <td>75.0</td>\n",
       "      <td>91910</td>\n",
       "    </tr>\n",
       "    <tr>\n",
       "      <th>...</th>\n",
       "      <td>...</td>\n",
       "      <td>...</td>\n",
       "      <td>...</td>\n",
       "      <td>...</td>\n",
       "      <td>...</td>\n",
       "      <td>...</td>\n",
       "      <td>...</td>\n",
       "      <td>...</td>\n",
       "      <td>...</td>\n",
       "      <td>...</td>\n",
       "      <td>...</td>\n",
       "      <td>...</td>\n",
       "      <td>...</td>\n",
       "      <td>...</td>\n",
       "      <td>...</td>\n",
       "      <td>...</td>\n",
       "      <td>...</td>\n",
       "      <td>...</td>\n",
       "      <td>...</td>\n",
       "      <td>...</td>\n",
       "      <td>...</td>\n",
       "    </tr>\n",
       "    <tr>\n",
       "      <th>15350.C6Z3P.1</th>\n",
       "      <td>8.0</td>\n",
       "      <td>11.0</td>\n",
       "      <td>3.0</td>\n",
       "      <td>25.0</td>\n",
       "      <td>X00235753</td>\n",
       "      <td>0.0</td>\n",
       "      <td>0</td>\n",
       "      <td>1.0</td>\n",
       "      <td>2023-08-15</td>\n",
       "      <td>2023-08-15</td>\n",
       "      <td>...</td>\n",
       "      <td>female</td>\n",
       "      <td>408170.0</td>\n",
       "      <td>Pierce ASD project</td>\n",
       "      <td>363146274.0</td>\n",
       "      <td>76.0</td>\n",
       "      <td>54.0</td>\n",
       "      <td>92.0</td>\n",
       "      <td>89.0</td>\n",
       "      <td>86.0</td>\n",
       "      <td>91942</td>\n",
       "    </tr>\n",
       "    <tr>\n",
       "      <th>15350.C7T8B.1</th>\n",
       "      <td>9.0</td>\n",
       "      <td>14.0</td>\n",
       "      <td>5.0</td>\n",
       "      <td>34.0</td>\n",
       "      <td>X00235652</td>\n",
       "      <td>0.0</td>\n",
       "      <td>1</td>\n",
       "      <td>1.0</td>\n",
       "      <td>2023-10-13</td>\n",
       "      <td>2023-10-13</td>\n",
       "      <td>...</td>\n",
       "      <td>female</td>\n",
       "      <td>408170.0</td>\n",
       "      <td>Pierce ASD project</td>\n",
       "      <td>363146315.0</td>\n",
       "      <td>66.0</td>\n",
       "      <td>67.0</td>\n",
       "      <td>69.0</td>\n",
       "      <td>69.0</td>\n",
       "      <td>61.0</td>\n",
       "      <td>92111</td>\n",
       "    </tr>\n",
       "    <tr>\n",
       "      <th>15350.C7V5J.1</th>\n",
       "      <td>11.0</td>\n",
       "      <td>15.0</td>\n",
       "      <td>4.0</td>\n",
       "      <td>20.0</td>\n",
       "      <td>X00235548</td>\n",
       "      <td>0.0</td>\n",
       "      <td>0</td>\n",
       "      <td>1.0</td>\n",
       "      <td>2023-10-12</td>\n",
       "      <td>2023-10-12</td>\n",
       "      <td>...</td>\n",
       "      <td>male</td>\n",
       "      <td>408170.0</td>\n",
       "      <td>Pierce ASD project</td>\n",
       "      <td>363146252.0</td>\n",
       "      <td>94.0</td>\n",
       "      <td>92.0</td>\n",
       "      <td>95.0</td>\n",
       "      <td>95.0</td>\n",
       "      <td>101.0</td>\n",
       "      <td>92122</td>\n",
       "    </tr>\n",
       "    <tr>\n",
       "      <th>15350.D2P2Q.1</th>\n",
       "      <td>18.0</td>\n",
       "      <td>26.0</td>\n",
       "      <td>8.0</td>\n",
       "      <td>28.0</td>\n",
       "      <td>X00235478</td>\n",
       "      <td>0.0</td>\n",
       "      <td>1</td>\n",
       "      <td>1.0</td>\n",
       "      <td>2023-10-19</td>\n",
       "      <td>2023-10-19</td>\n",
       "      <td>...</td>\n",
       "      <td>male</td>\n",
       "      <td>408170.0</td>\n",
       "      <td>Pierce ASD project</td>\n",
       "      <td>363146306.0</td>\n",
       "      <td>69.0</td>\n",
       "      <td>60.0</td>\n",
       "      <td>75.0</td>\n",
       "      <td>89.0</td>\n",
       "      <td>73.0</td>\n",
       "      <td>92026</td>\n",
       "    </tr>\n",
       "    <tr>\n",
       "      <th>15350.Z4R4J.1</th>\n",
       "      <td>14.0</td>\n",
       "      <td>18.0</td>\n",
       "      <td>4.0</td>\n",
       "      <td>32.0</td>\n",
       "      <td>X00235739</td>\n",
       "      <td>0.0</td>\n",
       "      <td>0</td>\n",
       "      <td>1.0</td>\n",
       "      <td>2023-07-12</td>\n",
       "      <td>2023-07-12</td>\n",
       "      <td>...</td>\n",
       "      <td>male</td>\n",
       "      <td>408170.0</td>\n",
       "      <td>Pierce ASD project</td>\n",
       "      <td>363146255.0</td>\n",
       "      <td>86.0</td>\n",
       "      <td>91.0</td>\n",
       "      <td>75.0</td>\n",
       "      <td>83.0</td>\n",
       "      <td>103.0</td>\n",
       "      <td>91909</td>\n",
       "    </tr>\n",
       "  </tbody>\n",
       "</table>\n",
       "<p>83 rows × 91 columns</p>\n",
       "</div>"
      ],
      "text/plain": [
       "               ados_cosotot  ados_cosototrrtot  ados_rrtot  ageatfecalsample  \\\n",
       "sample_name                                                                    \n",
       "15350.A5U7C.2           8.0               14.0         6.0              35.0   \n",
       "15350.A6N5R.1          12.0               18.0         6.0              16.0   \n",
       "15350.A6T5B.1           1.0                2.0         1.0              14.0   \n",
       "15350.A7B7Z.1          20.0               27.0         7.0              24.0   \n",
       "15350.A7L6P.1          20.0               28.0         8.0              27.0   \n",
       "...                     ...                ...         ...               ...   \n",
       "15350.C6Z3P.1           8.0               11.0         3.0              25.0   \n",
       "15350.C7T8B.1           9.0               14.0         5.0              34.0   \n",
       "15350.C7V5J.1          11.0               15.0         4.0              20.0   \n",
       "15350.D2P2Q.1          18.0               26.0         8.0              28.0   \n",
       "15350.Z4R4J.1          14.0               18.0         4.0              32.0   \n",
       "\n",
       "              anonymized_name  antibiotics_last_2weeks attend_daycare  \\\n",
       "sample_name                                                             \n",
       "15350.A5U7C.2       X00235506                      0.0              0   \n",
       "15350.A6N5R.1       X00235660                      0.0              0   \n",
       "15350.A6T5B.1       X00235600                      0.0              1   \n",
       "15350.A7B7Z.1       X00235539                      1.0              0   \n",
       "15350.A7L6P.1       X00235658                      0.0              0   \n",
       "...                       ...                      ...            ...   \n",
       "15350.C6Z3P.1       X00235753                      0.0              0   \n",
       "15350.C7T8B.1       X00235652                      0.0              1   \n",
       "15350.C7V5J.1       X00235548                      0.0              0   \n",
       "15350.D2P2Q.1       X00235478                      0.0              1   \n",
       "15350.Z4R4J.1       X00235739                      0.0              0   \n",
       "\n",
       "               breastfed_morethan1month collection_date collection_timestamp  \\\n",
       "sample_name                                                                    \n",
       "15350.A5U7C.2                       1.0      2023-02-08           2023-02-08   \n",
       "15350.A6N5R.1                       1.0      2022-06-28           2022-06-28   \n",
       "15350.A6T5B.1                       1.0      2022-04-18           2022-04-18   \n",
       "15350.A7B7Z.1                       1.0      2022-06-21           2022-06-21   \n",
       "15350.A7L6P.1                       1.0      2022-06-21           2022-06-21   \n",
       "...                                 ...             ...                  ...   \n",
       "15350.C6Z3P.1                       1.0      2023-08-15           2023-08-15   \n",
       "15350.C7T8B.1                       1.0      2023-10-13           2023-10-13   \n",
       "15350.C7V5J.1                       1.0      2023-10-12           2023-10-12   \n",
       "15350.D2P2Q.1                       1.0      2023-10-19           2023-10-19   \n",
       "15350.Z4R4J.1                       1.0      2023-07-12           2023-07-12   \n",
       "\n",
       "               ...     sex  taxon_id               title      tube_id  \\\n",
       "sample_name    ...                                                      \n",
       "15350.A5U7C.2  ...    male  408170.0  Pierce ASD project  363146269.0   \n",
       "15350.A6N5R.1  ...    male  408170.0  Pierce ASD project  363146304.0   \n",
       "15350.A6T5B.1  ...    male  408170.0  Pierce ASD project  363146249.0   \n",
       "15350.A7B7Z.1  ...    male  408170.0  Pierce ASD project  363146321.0   \n",
       "15350.A7L6P.1  ...    male  408170.0  Pierce ASD project  363146256.0   \n",
       "...            ...     ...       ...                 ...          ...   \n",
       "15350.C6Z3P.1  ...  female  408170.0  Pierce ASD project  363146274.0   \n",
       "15350.C7T8B.1  ...  female  408170.0  Pierce ASD project  363146315.0   \n",
       "15350.C7V5J.1  ...    male  408170.0  Pierce ASD project  363146252.0   \n",
       "15350.D2P2Q.1  ...    male  408170.0  Pierce ASD project  363146306.0   \n",
       "15350.Z4R4J.1  ...    male  408170.0  Pierce ASD project  363146255.0   \n",
       "\n",
       "              vine_adapbehav_domstd  vine_comtotal_domstd  \\\n",
       "sample_name                                                 \n",
       "15350.A5U7C.2                  82.0                  74.0   \n",
       "15350.A6N5R.1                  95.0                  96.0   \n",
       "15350.A6T5B.1                  98.0                  94.0   \n",
       "15350.A7B7Z.1                  64.0                  54.0   \n",
       "15350.A7L6P.1                  74.0                  60.0   \n",
       "...                             ...                   ...   \n",
       "15350.C6Z3P.1                  76.0                  54.0   \n",
       "15350.C7T8B.1                  66.0                  67.0   \n",
       "15350.C7V5J.1                  94.0                  92.0   \n",
       "15350.D2P2Q.1                  69.0                  60.0   \n",
       "15350.Z4R4J.1                  86.0                  91.0   \n",
       "\n",
       "              vine_dlytotal_domstd vine_mtrtotal_domstd  vine_soctotal_domstd  \\\n",
       "sample_name                                                                     \n",
       "15350.A5U7C.2                 78.0                100.0                 103.0   \n",
       "15350.A6N5R.1                 95.0                102.0                  99.0   \n",
       "15350.A6T5B.1                100.0                114.0                 101.0   \n",
       "15350.A7B7Z.1                 69.0                 69.0                  65.0   \n",
       "15350.A7L6P.1                 92.0                 89.0                  75.0   \n",
       "...                            ...                  ...                   ...   \n",
       "15350.C6Z3P.1                 92.0                 89.0                  86.0   \n",
       "15350.C7T8B.1                 69.0                 69.0                  61.0   \n",
       "15350.C7V5J.1                 95.0                 95.0                 101.0   \n",
       "15350.D2P2Q.1                 75.0                 89.0                  73.0   \n",
       "15350.Z4R4J.1                 75.0                 83.0                 103.0   \n",
       "\n",
       "              zipcode  \n",
       "sample_name            \n",
       "15350.A5U7C.2   92026  \n",
       "15350.A6N5R.1   92154  \n",
       "15350.A6T5B.1   92102  \n",
       "15350.A7B7Z.1   91950  \n",
       "15350.A7L6P.1   91910  \n",
       "...               ...  \n",
       "15350.C6Z3P.1   91942  \n",
       "15350.C7T8B.1   92111  \n",
       "15350.C7V5J.1   92122  \n",
       "15350.D2P2Q.1   92026  \n",
       "15350.Z4R4J.1   91909  \n",
       "\n",
       "[83 rows x 91 columns]"
      ]
     },
     "execution_count": 103,
     "metadata": {},
     "output_type": "execute_result"
    }
   ],
   "source": [
    "metadata = Metadata.load('data/metadata/15350_20240110-175840_noblanks.txt')\n",
    "metadata_df = metadata.to_dataframe()"
   ]
  },
  {
   "cell_type": "code",
   "execution_count": 104,
   "id": "c271c262",
   "metadata": {},
   "outputs": [],
   "source": [
    "# Create dx_eyetrack column based on TP counts\n",
    "tp_count = (metadata_df[['dx_compsocial', 'dx_geopref', 'dx_mtrtechno', 'dx_mtrtraffic', 'dx_outdoorplay']] == 'TP').sum(axis=1)\n",
    "\n",
    "def get_dx_eyetrack(row, tp_count_value):\n",
    "    if row['dx'] == 'TD':\n",
    "        return -1\n",
    "    elif tp_count_value == 0:\n",
    "        return 0\n",
    "    else:  # tp_count_value >= 1\n",
    "        return 1\n",
    "\n",
    "metadata_df['dx_eyetrack'] = metadata_df.apply(lambda row: get_dx_eyetrack(row, tp_count[row.name]), axis=1)"
   ]
  },
  {
   "cell_type": "code",
   "execution_count": 106,
   "id": "74c1bf59",
   "metadata": {},
   "outputs": [
    {
     "name": "stdout",
     "output_type": "stream",
     "text": [
      "Total samples after filtering for TD and TP: 49\n",
      "dx_eyetrack distribution:\n",
      "-1    20\n",
      " 1    29\n",
      "Name: dx_eyetrack, dtype: int64\n",
      "\n",
      "Samples in distance matrix: 83\n",
      "Samples in filtered metadata (TD + TP): 49\n",
      "Common samples: 49\n",
      "\n",
      "======================================================================\n",
      "ADONIS/PERMANOVA: Unweighted UniFrac Distance (TD vs TP only)\n",
      "======================================================================\n",
      "Formula: distance ~ host_age + household_income_code + ethnicity\n",
      "\n",
      "Running external command line application. This may print messages to stdout and/or stderr.\n",
      "The command being run is below. This command cannot be manually re-run as it will depend on temporary files that no longer exist.\n",
      "\n",
      "Command: run_adonis.R /var/folders/tx/vgccmrkj1fz1zv99j496_3k80000gn/T/tmpbppptpt8/dm.tsv /var/folders/tx/vgccmrkj1fz1zv99j496_3k80000gn/T/tmpbppptpt8/md.tsv host_age + household_income_code + ethnicity 999 1 /var/folders/tx/vgccmrkj1fz1zv99j496_3k80000gn/T/qiime2-temp-841ghwia/adonis.tsv\n",
      "\n",
      "R version 4.2.2 (2022-10-31) \n"
     ]
    },
    {
     "name": "stderr",
     "output_type": "stream",
     "text": [
      "Loading required package: permute\n",
      "Loading required package: lattice\n",
      "This is vegan 2.6-4\n",
      "'adonis' will be deprecated: use 'adonis2' instead\n"
     ]
    },
    {
     "name": "stdout",
     "output_type": "stream",
     "text": [
      "Results saved to: out/adonis_unweighted_unifrac_td_tp.qzv\n",
      "======================================================================\n",
      "ADONIS/PERMANOVA: Weighted UniFrac Distance (TD vs TP only)\n",
      "======================================================================\n",
      "Formula: distance ~ host_age + household_income_code + ethnicity\n",
      "\n",
      "Running external command line application. This may print messages to stdout and/or stderr.\n",
      "The command being run is below. This command cannot be manually re-run as it will depend on temporary files that no longer exist.\n",
      "\n",
      "Command: run_adonis.R /var/folders/tx/vgccmrkj1fz1zv99j496_3k80000gn/T/tmpmgxtbirm/dm.tsv /var/folders/tx/vgccmrkj1fz1zv99j496_3k80000gn/T/tmpmgxtbirm/md.tsv host_age + household_income_code + ethnicity 999 1 /var/folders/tx/vgccmrkj1fz1zv99j496_3k80000gn/T/qiime2-temp-uwkf2j6c/adonis.tsv\n",
      "\n",
      "R version 4.2.2 (2022-10-31) \n"
     ]
    },
    {
     "name": "stderr",
     "output_type": "stream",
     "text": [
      "Loading required package: permute\n",
      "Loading required package: lattice\n",
      "This is vegan 2.6-4\n",
      "'adonis' will be deprecated: use 'adonis2' instead\n"
     ]
    },
    {
     "name": "stdout",
     "output_type": "stream",
     "text": [
      "Results saved to: out/adonis_weighted_unifrac_td_tp.qzv\n",
      "\n",
      "======================================================================\n",
      "Summary Statistics (TD and TP samples only)\n",
      "======================================================================\n",
      "Number of samples analyzed: 49\n",
      "\n",
      "Age: mean ± SD = 25.1 ± 5.3\n",
      "Age range: 14.0 - 35.0\n",
      "\n",
      "Income distribution:\n",
      "MID     21\n",
      "HIGH    11\n",
      "NA       9\n",
      "LOW      8\n",
      "Name: household_income_code, dtype: int64\n",
      "\n",
      "Ethnicity distribution:\n",
      "Non-Hispanic              22\n",
      "Hispanic or Latino        20\n",
      "Not Hispanic or Latino     7\n",
      "Name: ethnicity, dtype: int64\n"
     ]
    }
   ],
   "source": [
    "sampling_depth = sampling_depth\n",
    "\n",
    "# Load the distance matrices from QIIME2 artifacts\n",
    "unweighted_artifact = qiime2.Artifact.load(\n",
    "    f'out/rarefaction_{sampling_depth}/gg2/unweighted_unifrac_distance_matrix.qza'\n",
    ")\n",
    "weighted_artifact = qiime2.Artifact.load(\n",
    "    f'out/rarefaction_{sampling_depth}/gg2/weighted_unifrac_distance_matrix.qza'\n",
    ")\n",
    "\n",
    "# Extract distance matrices as skbio objects\n",
    "unweighted_dm = unweighted_artifact.view(skbio.DistanceMatrix)\n",
    "weighted_dm = weighted_artifact.view(skbio.DistanceMatrix)\n",
    "\n",
    "# Filter to only TD (-1) or TP (1) samples\n",
    "metadata_df_td_tp = metadata_df[metadata_df['dx_eyetrack'].isin([-1, 1])].copy()\n",
    "\n",
    "print(f\"Total samples after filtering for TD and TP: {len(metadata_df_td_tp)}\")\n",
    "print(f\"dx_eyetrack distribution:\")\n",
    "print(metadata_df_td_tp['dx_eyetrack'].value_counts().sort_index())\n",
    "\n",
    "# Keep only relevant columns\n",
    "metadata_df_subset = metadata_df_td_tp[['host_age', 'household_income_code', 'ethnicity']].copy()\n",
    "\n",
    "# Find samples that are in both the distance matrix and metadata\n",
    "dm_samples = set(unweighted_dm.ids)\n",
    "metadata_samples = set(metadata_df_subset.index)\n",
    "common_samples = list(dm_samples.intersection(metadata_samples))\n",
    "\n",
    "print(f\"\\nSamples in distance matrix: {len(dm_samples)}\")\n",
    "print(f\"Samples in filtered metadata (TD + TP): {len(metadata_samples)}\")\n",
    "print(f\"Common samples: {len(common_samples)}\")\n",
    "\n",
    "# Filter distance matrices and metadata to common samples\n",
    "unweighted_dm_filtered = unweighted_dm.filter(common_samples)\n",
    "weighted_dm_filtered = weighted_dm.filter(common_samples)\n",
    "\n",
    "metadata_df_filtered = metadata_df_subset.loc[common_samples]\n",
    "\n",
    "# Create filtered QIIME2 artifacts\n",
    "unweighted_artifact_filtered = qiime2.Artifact.import_data(\n",
    "    'DistanceMatrix',\n",
    "    unweighted_dm_filtered\n",
    ")\n",
    "weighted_artifact_filtered = qiime2.Artifact.import_data(\n",
    "    'DistanceMatrix',\n",
    "    weighted_dm_filtered\n",
    ")\n",
    "\n",
    "# Convert to QIIME2 Metadata object\n",
    "metadata_filtered = qiime2.Metadata(metadata_df_filtered)\n",
    "\n",
    "# Run PERMANOVA (ADONIS) on unweighted UniFrac\n",
    "print(\"ADONIS/PERMANOVA: Unweighted UniFrac Distance (TD vs TP only)\\n\")\n",
    "print(\"Formula: distance ~ host_age + household_income_code + ethnicity\\n\")\n",
    "\n",
    "unweighted_results = diversity.actions.adonis(\n",
    "    distance_matrix=unweighted_artifact_filtered,\n",
    "    metadata=metadata_filtered,\n",
    "    formula='host_age + household_income_code + ethnicity',\n",
    "    permutations=999,\n",
    "    n_jobs=1\n",
    ")\n",
    "\n",
    "# Save and display results\n",
    "unweighted_results.visualization.save('out/adonis_unweighted_unifrac_td_tp.qzv')\n",
    "print(\"Results saved to: out/adonis_unweighted_unifrac_td_tp.qzv\")\n",
    "\n",
    "# Run PERMANOVA (ADONIS) on weighted UniFrac\n",
    "print(\"ADONIS/PERMANOVA: Weighted UniFrac Distance (TD vs TP only)\\n\")\n",
    "print(\"Formula: distance ~ host_age + household_income_code + ethnicity\\n\")\n",
    "\n",
    "weighted_results = diversity.actions.adonis(\n",
    "    distance_matrix=weighted_artifact_filtered,\n",
    "    metadata=metadata_filtered,\n",
    "    formula='host_age + household_income_code + ethnicity',\n",
    "    permutations=999,\n",
    "    n_jobs=1\n",
    ")\n",
    "\n",
    "# Save and display results\n",
    "weighted_results.visualization.save('out/adonis_weighted_unifrac_td_tp.qzv')\n",
    "print(\"Results saved to: out/adonis_weighted_unifrac_td_tp.qzv\")\n",
    "\n",
    "# Print summary statistics\n",
    "print(\"Summary Statistics (TD and TP samples only)\\n\")\n",
    "print(f\"Number of samples analyzed: {len(metadata_df_filtered)}\")\n",
    "print(f\"\\nAge: mean ± SD = {metadata_df_filtered['host_age'].mean():.1f} ± {metadata_df_filtered['host_age'].std():.1f}\")\n",
    "print(f\"Age range: {metadata_df_filtered['host_age'].min()} - {metadata_df_filtered['host_age'].max()}\")\n",
    "print(f\"\\nIncome distribution:\")\n",
    "print(metadata_df_filtered['household_income_code'].value_counts())\n",
    "print(f\"\\nEthnicity distribution:\")\n",
    "print(metadata_df_filtered['ethnicity'].value_counts())\n"
   ]
  },
  {
   "cell_type": "code",
   "execution_count": null,
   "id": "123947c8",
   "metadata": {},
   "outputs": [],
   "source": []
  }
 ],
 "metadata": {
  "kernelspec": {
   "display_name": "Python 3",
   "language": "python",
   "name": "python3"
  },
  "language_info": {
   "codemirror_mode": {
    "name": "ipython",
    "version": 3
   },
   "file_extension": ".py",
   "mimetype": "text/x-python",
   "name": "python",
   "nbconvert_exporter": "python",
   "pygments_lexer": "ipython3",
   "version": "3.8.18"
  }
 },
 "nbformat": 4,
 "nbformat_minor": 5
}
